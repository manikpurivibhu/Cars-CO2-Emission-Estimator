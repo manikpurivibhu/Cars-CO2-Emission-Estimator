{
 "cells": [
  {
   "cell_type": "markdown",
   "id": "b2a7768c",
   "metadata": {},
   "source": [
    "## Import required Libraries and modules"
   ]
  },
  {
   "cell_type": "markdown",
   "id": "2ca5409f",
   "metadata": {},
   "source": [
    " "
   ]
  },
  {
   "cell_type": "code",
   "execution_count": 1,
   "id": "22f8c9ce",
   "metadata": {},
   "outputs": [],
   "source": [
    "import numpy as np\n",
    "import pandas as pd\n",
    "import matplotlib.pyplot as plt\n",
    "import seaborn as sns\n",
    "import math\n",
    "\n",
    "from sklearn.linear_model import Ridge\n",
    "from sklearn.preprocessing import PolynomialFeatures\n",
    "from sklearn.preprocessing import StandardScaler\n",
    "from sklearn.pipeline import Pipeline\n",
    "from sklearn.metrics import mean_squared_error\n",
    "from sklearn.metrics import r2_score\n",
    "from sklearn.model_selection import train_test_split\n",
    "from sklearn.model_selection import cross_val_score\n",
    "from sklearn.model_selection import GridSearchCV\n",
    "from sklearn.model_selection import RepeatedKFold\n",
    "\n",
    "from scipy import stats\n",
    "\n",
    "import statsmodels.api as sm\n",
    "from statsmodels.formula.api import ols\n",
    "from statsmodels.stats.anova import anova_lm\n",
    "import statsmodels.stats.multicomp\n",
    "\n",
    "import pickle\n",
    "\n",
    "\n",
    "%matplotlib inline\n"
   ]
  },
  {
   "cell_type": "markdown",
   "id": "65d5a6b0",
   "metadata": {},
   "source": [
    " "
   ]
  },
  {
   "cell_type": "markdown",
   "id": "259250b6",
   "metadata": {},
   "source": [
    "## import data"
   ]
  },
  {
   "cell_type": "code",
   "execution_count": 2,
   "id": "508805d1",
   "metadata": {},
   "outputs": [],
   "source": [
    "col_list1 = ['MODEL', 'MAKE', 'MODEL.1', 'VEHICLE CLASS', 'ENGINE SIZE', 'CYLINDERS',\n",
    "       'TRANSMISSION', 'FUEL', 'FUEL CONSUMPTION', 'Unnamed: 9', 'Unnamed: 10',\n",
    "       'Unnamed: 11', 'CO2 EMISSIONS ']\n",
    "\n",
    "col_list2 = ['MODEL', 'MAKE', 'MODEL.1', 'VEHICLE CLASS', 'ENGINE SIZE', 'CYLINDERS',\n",
    "       'TRANSMISSION', 'FUEL', 'FUEL CONSUMPTION', 'Unnamed: 9', 'Unnamed: 10',\n",
    "       'Unnamed: 11', 'CO2 EMISSIONS ', 'CO2']\n",
    "\n",
    "col_list3 = ['MODEL', 'MAKE', 'MODEL.1', 'VEHICLE CLASS', 'ENGINE SIZE', 'CYLINDERS',\n",
    "       'TRANSMISSION', 'FUEL', 'FUEL CONSUMPTION', 'Unnamed: 9', 'Unnamed: 10',\n",
    "       'Unnamed: 11', 'CO2 EMISSIONS ','CO2', 'SMOG']\n",
    "\n",
    "col_list4 = ['Model', 'Make', 'Model.1', 'Vehicle Class', 'Engine Size', 'Cylinders',\n",
    "       'Transmission', 'Fuel', 'Fuel Consumption', 'Unnamed: 9', 'Unnamed: 10',\n",
    "       'Unnamed: 11', 'CO2 Emissions', 'CO2', 'Smog']\n",
    "\n",
    "col_list_2015 = ['MODEL', 'MAKE', 'MODEL.1', 'VEHICLE CLASS', 'ENGINE SIZE', 'CYLINDERS',\n",
    "       'TRANSMISSION', 'FUEL', 'FUEL CONSUMPTION*', 'Unnamed: 9', 'Unnamed: 10',\n",
    "       'Unnamed: 11', 'CO2 EMISSIONS ']\n"
   ]
  },
  {
   "cell_type": "code",
   "execution_count": 3,
   "id": "971953cf",
   "metadata": {},
   "outputs": [],
   "source": [
    "d = {}\n",
    "\n",
    "d['MODEL']            = 'year'\n",
    "d['MAKE']             = 'company'\n",
    "d['MODEL.1']          = 'model_name'\n",
    "d['VEHICLE CLASS']    = 'vehicle_class'\n",
    "d['ENGINE SIZE']      = 'engine_size'\n",
    "d['CYLINDERS']        = 'cylinders'\n",
    "d['TRANSMISSION']     = 'transmission'\n",
    "d['FUEL']             = 'fuel_type'\n",
    "d['FUEL CONSUMPTION'] = 'fuel_consumption_city'\n",
    "d['Unnamed: 9']       = 'fuel_consumption_highway'\n",
    "d['Unnamed: 10']      = 'fuel_consumption_comb1'\n",
    "d['Unnamed: 11']      = 'fuel_consumption_comb2'\n",
    "d['CO2 EMISSIONS ']   = 'co2_emissions'\n",
    "d['FUEL CONSUMPTION*']= 'fuel_consumption_city'\n",
    "d['CO2']              = 'co2_rating'\n",
    "d['SMOG']             = 'smog_rating'\n",
    "d['Smog']             = 'smog_rating'\n",
    "d['Model']            = 'year'\n",
    "d['Make']             = 'company'\n",
    "d['Model.1']          = 'model_name'\n",
    "d['Vehicle Class']    = 'vehicle_class'\n",
    "d['Engine Size']      = 'engine_size'\n",
    "d['Cylinders']        = 'cylinders'\n",
    "d['Transmission']     = 'transmission'\n",
    "d['Fuel']             = 'fuel_type'\n",
    "d['Fuel Consumption'] = 'fuel_consumption_city'\n",
    "d['CO2 Emissions']    = 'co2_emissions'"
   ]
  },
  {
   "cell_type": "markdown",
   "id": "ff52b43b",
   "metadata": {},
   "source": [
    " "
   ]
  },
  {
   "cell_type": "markdown",
   "id": "b3fe3ec3",
   "metadata": {},
   "source": [
    "## Dataset for 1995-1999"
   ]
  },
  {
   "cell_type": "code",
   "execution_count": 4,
   "id": "07bab069",
   "metadata": {
    "scrolled": true
   },
   "outputs": [
    {
     "data": {
      "text/plain": [
       "Index(['MODEL', 'MAKE', 'MODEL.1', 'VEHICLE CLASS', 'ENGINE SIZE', 'CYLINDERS',\n",
       "       'TRANSMISSION', 'FUEL', 'FUEL CONSUMPTION', 'Unnamed: 9', 'Unnamed: 10',\n",
       "       'Unnamed: 11', 'CO2 EMISSIONS '],\n",
       "      dtype='object')"
      ]
     },
     "execution_count": 4,
     "metadata": {},
     "output_type": "execute_result"
    }
   ],
   "source": [
    "d1 = pd.read_csv('1995_to_99.csv', usecols = col_list1)\n",
    "col1 = d1.columns\n",
    "col1"
   ]
  },
  {
   "cell_type": "code",
   "execution_count": 5,
   "id": "300cad15",
   "metadata": {},
   "outputs": [],
   "source": [
    "#d1: Renaming columns\n",
    "\n",
    "d1.rename(columns=d, inplace = True)\n"
   ]
  },
  {
   "cell_type": "code",
   "execution_count": 6,
   "id": "c2180b91",
   "metadata": {},
   "outputs": [],
   "source": [
    "#d1: Dealing with NaN\n",
    "\n",
    "d1.dropna(inplace=True)"
   ]
  },
  {
   "cell_type": "code",
   "execution_count": 7,
   "id": "e288bd0b",
   "metadata": {},
   "outputs": [],
   "source": [
    "#d1: Converting column dtypes\n",
    "\n",
    "d1['cylinders']                = d1['cylinders'].astype('float')\n",
    "d1['engine_size']              = d1['engine_size'].astype('float')\n",
    "d1['fuel_consumption_city']    = d1['fuel_consumption_city'].astype('float')\n",
    "d1['fuel_consumption_highway'] = d1['fuel_consumption_highway'].astype('float')\n",
    "d1['fuel_consumption_comb1']   = d1['fuel_consumption_comb1'].astype('float')\n",
    "d1['fuel_consumption_comb2']   = d1['fuel_consumption_comb2'].astype('float')\n",
    "d1['co2_emissions']            = d1['co2_emissions'].astype('int')"
   ]
  },
  {
   "cell_type": "markdown",
   "id": "f0e9be67",
   "metadata": {},
   "source": [
    " "
   ]
  },
  {
   "cell_type": "markdown",
   "id": "9266d07e",
   "metadata": {},
   "source": [
    "## Dataset for 2000-2014"
   ]
  },
  {
   "cell_type": "code",
   "execution_count": 8,
   "id": "fa662978",
   "metadata": {
    "scrolled": true
   },
   "outputs": [
    {
     "name": "stderr",
     "output_type": "stream",
     "text": [
      "C:\\ProgramData\\Anaconda3\\lib\\site-packages\\IPython\\core\\interactiveshell.py:3165: DtypeWarning: Columns (0,4,8,9,10,11,12) have mixed types.Specify dtype option on import or set low_memory=False.\n",
      "  has_raised = await self.run_ast_nodes(code_ast.body, cell_name,\n"
     ]
    }
   ],
   "source": [
    "#Import Dataset for CO2 Emission from 2000-2014\n",
    "\n",
    "d2 = pd.read_csv('2000_to_14.csv', usecols = col_list1)"
   ]
  },
  {
   "cell_type": "code",
   "execution_count": 9,
   "id": "4eb842bf",
   "metadata": {},
   "outputs": [
    {
     "data": {
      "text/plain": [
       "Index(['year', 'company', 'model_name', 'vehicle_class', 'engine_size',\n",
       "       'cylinders', 'transmission', 'fuel_type', 'fuel_consumption_city',\n",
       "       'fuel_consumption_highway', 'fuel_consumption_comb1',\n",
       "       'fuel_consumption_comb2', 'co2_emissions'],\n",
       "      dtype='object')"
      ]
     },
     "execution_count": 9,
     "metadata": {},
     "output_type": "execute_result"
    }
   ],
   "source": [
    "#Rename columns \n",
    "\n",
    "d2.rename(columns=d, inplace = True)\n",
    "col2 = d2.columns\n",
    "col2"
   ]
  },
  {
   "cell_type": "code",
   "execution_count": 10,
   "id": "a713b80e",
   "metadata": {},
   "outputs": [],
   "source": [
    "#Dealing with NaN values\n",
    "\n",
    "d2.dropna(inplace=True)"
   ]
  },
  {
   "cell_type": "code",
   "execution_count": 11,
   "id": "72ec3ce9",
   "metadata": {},
   "outputs": [],
   "source": [
    "#Converting dtypes of columns\n",
    "\n",
    "d2['cylinders']                = d2['cylinders'].astype('float')\n",
    "d2['engine_size']              = d2['engine_size'].astype('float')\n",
    "d2['fuel_consumption_city']    = d2['fuel_consumption_city'].astype('float')\n",
    "d2['fuel_consumption_highway'] = d2['fuel_consumption_highway'].astype('float')\n",
    "d2['fuel_consumption_comb1']   = d2['fuel_consumption_comb1'].astype('float')\n",
    "d2['fuel_consumption_comb2']   = d2['fuel_consumption_comb2'].astype('float')\n",
    "d2['co2_emissions']            = d2['co2_emissions'].astype('int')"
   ]
  },
  {
   "cell_type": "markdown",
   "id": "bacd4a52",
   "metadata": {},
   "source": [
    " "
   ]
  },
  {
   "cell_type": "markdown",
   "id": "385f8e1d",
   "metadata": {},
   "source": [
    "## Dataset for year 2015"
   ]
  },
  {
   "cell_type": "code",
   "execution_count": 12,
   "id": "c918d189",
   "metadata": {},
   "outputs": [
    {
     "data": {
      "text/plain": [
       "Index(['MODEL', 'MAKE', 'MODEL.1', 'VEHICLE CLASS', 'ENGINE SIZE', 'CYLINDERS',\n",
       "       'TRANSMISSION', 'FUEL', 'FUEL CONSUMPTION*', 'Unnamed: 9',\n",
       "       'Unnamed: 10', 'Unnamed: 11', 'CO2 EMISSIONS '],\n",
       "      dtype='object')"
      ]
     },
     "execution_count": 12,
     "metadata": {},
     "output_type": "execute_result"
    }
   ],
   "source": [
    "#Import dataset\n",
    "\n",
    "d3 = pd.read_csv('2015.csv', usecols = col_list_2015)\n",
    "col3 = d3.columns\n",
    "col3"
   ]
  },
  {
   "cell_type": "code",
   "execution_count": 13,
   "id": "0e140a5d",
   "metadata": {},
   "outputs": [],
   "source": [
    "#Dealing with NaN values\n",
    "\n",
    "d3.dropna(inplace=True)"
   ]
  },
  {
   "cell_type": "code",
   "execution_count": 14,
   "id": "2cf8a2d9",
   "metadata": {},
   "outputs": [],
   "source": [
    "#Renaking Columns of Dataset\n",
    "\n",
    "d3.rename(columns=d, inplace = True)"
   ]
  },
  {
   "cell_type": "code",
   "execution_count": 15,
   "id": "d56cb20b",
   "metadata": {},
   "outputs": [],
   "source": [
    "#Converting dtypes of columns\n",
    "\n",
    "d3['cylinders']                = d3['cylinders'].astype('float')\n",
    "d3['engine_size']              = d3['engine_size'].astype('float')\n",
    "d3['fuel_consumption_city']    = d3['fuel_consumption_city'].astype('float')\n",
    "d3['fuel_consumption_highway'] = d3['fuel_consumption_highway'].astype('float')\n",
    "d3['fuel_consumption_comb1']   = d3['fuel_consumption_comb1'].astype('float')\n",
    "d3['fuel_consumption_comb2']   = d3['fuel_consumption_comb2'].astype('float')\n",
    "d3['co2_emissions']            = d3['co2_emissions'].astype('int')"
   ]
  },
  {
   "cell_type": "markdown",
   "id": "66231400",
   "metadata": {},
   "source": [
    " "
   ]
  },
  {
   "cell_type": "markdown",
   "id": "0805cbe1",
   "metadata": {},
   "source": [
    "## Dataset for year 2016"
   ]
  },
  {
   "cell_type": "code",
   "execution_count": 16,
   "id": "f2b8d442",
   "metadata": {},
   "outputs": [],
   "source": [
    "#Import Dataset\n",
    "\n",
    "d4 = pd.read_csv('2016.csv', usecols = col_list2)"
   ]
  },
  {
   "cell_type": "code",
   "execution_count": 17,
   "id": "55f31b24",
   "metadata": {},
   "outputs": [],
   "source": [
    "#Dealing with NaN values\n",
    "\n",
    "d4.dropna(inplace=True)"
   ]
  },
  {
   "cell_type": "code",
   "execution_count": 18,
   "id": "a2c432c3",
   "metadata": {},
   "outputs": [],
   "source": [
    "#Renaming Columns of Dataset\n",
    "\n",
    "d4.rename(columns=d, inplace = True)"
   ]
  },
  {
   "cell_type": "code",
   "execution_count": 19,
   "id": "678e678f",
   "metadata": {},
   "outputs": [],
   "source": [
    "#Converting dtypes of columns\n",
    "\n",
    "d4['cylinders']                = d4['cylinders'].astype('float')\n",
    "d4['engine_size']              = d4['engine_size'].astype('float')\n",
    "d4['fuel_consumption_city']    = d4['fuel_consumption_city'].astype('float')\n",
    "d4['fuel_consumption_highway'] = d4['fuel_consumption_highway'].astype('float')\n",
    "d4['fuel_consumption_comb1']   = d4['fuel_consumption_comb1'].astype('float')\n",
    "d4['fuel_consumption_comb2']   = d4['fuel_consumption_comb2'].astype('float')\n",
    "d4['co2_emissions']            = d4['co2_emissions'].astype('int')\n",
    "d4['co2_rating']               = d4['co2_rating'].astype('float')"
   ]
  },
  {
   "cell_type": "markdown",
   "id": "df6c9347",
   "metadata": {},
   "source": [
    " "
   ]
  },
  {
   "cell_type": "markdown",
   "id": "bd8655f6",
   "metadata": {},
   "source": [
    "## Dataset for year 2017"
   ]
  },
  {
   "cell_type": "code",
   "execution_count": 20,
   "id": "2aca55a4",
   "metadata": {},
   "outputs": [],
   "source": [
    "#Import Dataset\n",
    "\n",
    "d5 = pd.read_csv('2017.csv', usecols = col_list3)"
   ]
  },
  {
   "cell_type": "code",
   "execution_count": 21,
   "id": "a89ec378",
   "metadata": {},
   "outputs": [],
   "source": [
    "#Dealing with NaN values\n",
    "\n",
    "d5.dropna(inplace=True)"
   ]
  },
  {
   "cell_type": "code",
   "execution_count": 22,
   "id": "22d45f98",
   "metadata": {},
   "outputs": [],
   "source": [
    "#Renaming Columns of Dataset\n",
    "\n",
    "d5.rename(columns=d, inplace = True)"
   ]
  },
  {
   "cell_type": "code",
   "execution_count": 23,
   "id": "02d39060",
   "metadata": {},
   "outputs": [],
   "source": [
    "#Converting dtypes of columns\n",
    "\n",
    "d5['cylinders']                = d5['cylinders'].astype('float')\n",
    "d5['engine_size']              = d5['engine_size'].astype('float')\n",
    "d5['fuel_consumption_city']    = d5['fuel_consumption_city'].astype('float')\n",
    "d5['fuel_consumption_highway'] = d5['fuel_consumption_highway'].astype('float')\n",
    "d5['fuel_consumption_comb1']   = d5['fuel_consumption_comb1'].astype('float')\n",
    "d5['fuel_consumption_comb2']   = d5['fuel_consumption_comb2'].astype('float')\n",
    "d5['co2_emissions']            = d5['co2_emissions'].astype('int')\n",
    "d5['co2_rating']               = d5['co2_rating'].astype('float')\n",
    "d5['smog_rating']              = d5['smog_rating'].astype('float')"
   ]
  },
  {
   "cell_type": "markdown",
   "id": "f0fc1ff1",
   "metadata": {},
   "source": [
    " "
   ]
  },
  {
   "cell_type": "markdown",
   "id": "21b4f25d",
   "metadata": {},
   "source": [
    "## Dataset for year 2018"
   ]
  },
  {
   "cell_type": "code",
   "execution_count": 24,
   "id": "c38e3042",
   "metadata": {},
   "outputs": [],
   "source": [
    "#Import Dataset\n",
    "\n",
    "d6 = pd.read_csv('2018.csv', usecols = col_list3)"
   ]
  },
  {
   "cell_type": "code",
   "execution_count": 25,
   "id": "a55f99f9",
   "metadata": {},
   "outputs": [],
   "source": [
    "#Dealing with NaN values\n",
    "\n",
    "d6.dropna(inplace=True)"
   ]
  },
  {
   "cell_type": "code",
   "execution_count": 26,
   "id": "c2e0b81e",
   "metadata": {},
   "outputs": [],
   "source": [
    "#Renaming Columns of Dataset\n",
    "\n",
    "d6.rename(columns=d, inplace = True)"
   ]
  },
  {
   "cell_type": "code",
   "execution_count": 27,
   "id": "0fe609e9",
   "metadata": {},
   "outputs": [],
   "source": [
    "#Converting dtypes of columns\n",
    "\n",
    "d6['cylinders']                = d6['cylinders'].astype('float')\n",
    "d6['engine_size']              = d6['engine_size'].astype('float')\n",
    "d6['fuel_consumption_city']    = d6['fuel_consumption_city'].astype('float')\n",
    "d6['fuel_consumption_highway'] = d6['fuel_consumption_highway'].astype('float')\n",
    "d6['fuel_consumption_comb1']   = d6['fuel_consumption_comb1'].astype('float')\n",
    "d6['fuel_consumption_comb2']   = d6['fuel_consumption_comb2'].astype('float')\n",
    "d6['co2_emissions']            = d6['co2_emissions'].astype('int')\n",
    "d6['co2_rating']               = d6['co2_rating'].astype('float')\n",
    "d6['smog_rating']              = d6['smog_rating'].astype('float')"
   ]
  },
  {
   "cell_type": "markdown",
   "id": "2c793ee0",
   "metadata": {},
   "source": [
    " "
   ]
  },
  {
   "cell_type": "markdown",
   "id": "022e2364",
   "metadata": {},
   "source": [
    "## Dataset for year 2019"
   ]
  },
  {
   "cell_type": "code",
   "execution_count": 28,
   "id": "bd1512e0",
   "metadata": {},
   "outputs": [],
   "source": [
    "#Import Dataset\n",
    "\n",
    "d7 = pd.read_csv('2019.csv', usecols = col_list4)"
   ]
  },
  {
   "cell_type": "code",
   "execution_count": 29,
   "id": "ca984162",
   "metadata": {},
   "outputs": [],
   "source": [
    "#Renaming Columns of Dataset\n",
    "\n",
    "d7.rename(columns=d, inplace = True)"
   ]
  },
  {
   "cell_type": "code",
   "execution_count": 30,
   "id": "2616119f",
   "metadata": {},
   "outputs": [],
   "source": [
    "#Dealing with NaN values\n",
    "\n",
    "d7.dropna(inplace=True)"
   ]
  },
  {
   "cell_type": "code",
   "execution_count": 31,
   "id": "0dd1e20f",
   "metadata": {},
   "outputs": [],
   "source": [
    "#Converting dtypes of columns\n",
    "\n",
    "d7['cylinders']                = d7['cylinders'].astype('float')\n",
    "d7['engine_size']              = d7['engine_size'].astype('float')\n",
    "d7['fuel_consumption_city']    = d7['fuel_consumption_city'].astype('float')\n",
    "d7['fuel_consumption_highway'] = d7['fuel_consumption_highway'].astype('float')\n",
    "d7['fuel_consumption_comb1']   = d7['fuel_consumption_comb1'].astype('float')\n",
    "d7['fuel_consumption_comb2']   = d7['fuel_consumption_comb2'].astype('float')\n",
    "d7['co2_emissions']            = d7['co2_emissions'].astype('int')\n",
    "d7['co2_rating']               = d7['co2_rating'].astype('float')\n",
    "d7['smog_rating']              = d7['smog_rating'].astype('float')"
   ]
  },
  {
   "cell_type": "markdown",
   "id": "f96960e0",
   "metadata": {},
   "source": [
    " "
   ]
  },
  {
   "cell_type": "markdown",
   "id": "1e51eee3",
   "metadata": {},
   "source": [
    "## Dataset for year 2020"
   ]
  },
  {
   "cell_type": "code",
   "execution_count": 32,
   "id": "5bc656fc",
   "metadata": {},
   "outputs": [],
   "source": [
    "#Import Dataset\n",
    "\n",
    "d8 = pd.read_csv('2020.csv', usecols = col_list4, nrows = 1085)"
   ]
  },
  {
   "cell_type": "code",
   "execution_count": 33,
   "id": "651429ab",
   "metadata": {},
   "outputs": [],
   "source": [
    "#Dealing with NaN values\n",
    "\n",
    "d8.dropna(inplace=True)"
   ]
  },
  {
   "cell_type": "code",
   "execution_count": 34,
   "id": "babe1ccb",
   "metadata": {},
   "outputs": [],
   "source": [
    "#Renaming Columns of Dataset\n",
    "\n",
    "d8.rename(columns=d, inplace = True)"
   ]
  },
  {
   "cell_type": "code",
   "execution_count": 35,
   "id": "8dd60a66",
   "metadata": {},
   "outputs": [],
   "source": [
    "#Converting dtypes of columns\n",
    "\n",
    "d8['cylinders']                = d8['cylinders'].astype('float')\n",
    "d8['engine_size']              = d8['engine_size'].astype('float')\n",
    "d8['fuel_consumption_city']    = d8['fuel_consumption_city'].astype('float')\n",
    "d8['fuel_consumption_highway'] = d8['fuel_consumption_highway'].astype('float')\n",
    "d8['fuel_consumption_comb1']   = d8['fuel_consumption_comb1'].astype('float')\n",
    "d8['fuel_consumption_comb2']   = d8['fuel_consumption_comb2'].astype('float')\n",
    "d8['co2_emissions']            = d8['co2_emissions'].astype('int')\n",
    "d8['co2_rating']               = d8['co2_rating'].astype('float')\n",
    "d8['smog_rating']              = d8['smog_rating'].astype('float')"
   ]
  },
  {
   "cell_type": "markdown",
   "id": "973be0f6",
   "metadata": {},
   "source": [
    " "
   ]
  },
  {
   "cell_type": "markdown",
   "id": "f0c0efc4",
   "metadata": {},
   "source": [
    "## Dataset for year 2021"
   ]
  },
  {
   "cell_type": "code",
   "execution_count": 36,
   "id": "48c8db61",
   "metadata": {},
   "outputs": [],
   "source": [
    "#Import Dataset\n",
    "\n",
    "d9 = pd.read_csv('2021.csv', usecols = col_list4, nrows = 919)"
   ]
  },
  {
   "cell_type": "code",
   "execution_count": 37,
   "id": "d1458fb7",
   "metadata": {},
   "outputs": [],
   "source": [
    "#Dealing with NaN values\n",
    "\n",
    "d9.dropna(inplace=True)"
   ]
  },
  {
   "cell_type": "code",
   "execution_count": 38,
   "id": "9fccac64",
   "metadata": {},
   "outputs": [],
   "source": [
    "#Renaming Columns of Dataset\n",
    "\n",
    "d9.rename(columns=d, inplace = True)"
   ]
  },
  {
   "cell_type": "code",
   "execution_count": 39,
   "id": "b53c8c8d",
   "metadata": {},
   "outputs": [],
   "source": [
    "#Converting dtypes of columns\n",
    "\n",
    "d9['cylinders']                = d9['cylinders'].astype('float')\n",
    "d9['engine_size']              = d9['engine_size'].astype('float')\n",
    "d9['fuel_consumption_city']    = d9['fuel_consumption_city'].astype('float')\n",
    "d9['fuel_consumption_highway'] = d9['fuel_consumption_highway'].astype('float')\n",
    "d9['fuel_consumption_comb1']   = d9['fuel_consumption_comb1'].astype('float')\n",
    "d9['fuel_consumption_comb2']   = d9['fuel_consumption_comb2'].astype('float')\n",
    "d9['co2_emissions']            = d9['co2_emissions'].astype('int')\n",
    "d9['co2_rating']               = d9['co2_rating'].astype('float')\n",
    "d9['smog_rating']              = d9['smog_rating'].astype('float')"
   ]
  },
  {
   "cell_type": "code",
   "execution_count": null,
   "id": "1b870b8e",
   "metadata": {},
   "outputs": [],
   "source": []
  },
  {
   "cell_type": "code",
   "execution_count": 40,
   "id": "49c339e4",
   "metadata": {},
   "outputs": [],
   "source": [
    "# Addressing smog_rating and co2_rating in earlier datasets before concatinating all datasets to create 1 large dataset"
   ]
  },
  {
   "cell_type": "code",
   "execution_count": 41,
   "id": "1318661d",
   "metadata": {},
   "outputs": [
    {
     "data": {
      "text/html": [
       "<div>\n",
       "<style scoped>\n",
       "    .dataframe tbody tr th:only-of-type {\n",
       "        vertical-align: middle;\n",
       "    }\n",
       "\n",
       "    .dataframe tbody tr th {\n",
       "        vertical-align: top;\n",
       "    }\n",
       "\n",
       "    .dataframe thead th {\n",
       "        text-align: right;\n",
       "    }\n",
       "</style>\n",
       "<table border=\"1\" class=\"dataframe\">\n",
       "  <thead>\n",
       "    <tr style=\"text-align: right;\">\n",
       "      <th></th>\n",
       "      <th>d1</th>\n",
       "      <th>d2</th>\n",
       "      <th>d3</th>\n",
       "      <th>d4</th>\n",
       "      <th>d5</th>\n",
       "      <th>d6</th>\n",
       "      <th>d7</th>\n",
       "      <th>d8</th>\n",
       "    </tr>\n",
       "  </thead>\n",
       "  <tbody>\n",
       "    <tr>\n",
       "      <th>0</th>\n",
       "      <td>year</td>\n",
       "      <td>year</td>\n",
       "      <td>year</td>\n",
       "      <td>year</td>\n",
       "      <td>year</td>\n",
       "      <td>year</td>\n",
       "      <td>year</td>\n",
       "      <td>year</td>\n",
       "    </tr>\n",
       "    <tr>\n",
       "      <th>1</th>\n",
       "      <td>company</td>\n",
       "      <td>company</td>\n",
       "      <td>company</td>\n",
       "      <td>company</td>\n",
       "      <td>company</td>\n",
       "      <td>company</td>\n",
       "      <td>company</td>\n",
       "      <td>company</td>\n",
       "    </tr>\n",
       "    <tr>\n",
       "      <th>2</th>\n",
       "      <td>model_name</td>\n",
       "      <td>model_name</td>\n",
       "      <td>model_name</td>\n",
       "      <td>model_name</td>\n",
       "      <td>model_name</td>\n",
       "      <td>model_name</td>\n",
       "      <td>model_name</td>\n",
       "      <td>model_name</td>\n",
       "    </tr>\n",
       "    <tr>\n",
       "      <th>3</th>\n",
       "      <td>vehicle_class</td>\n",
       "      <td>vehicle_class</td>\n",
       "      <td>vehicle_class</td>\n",
       "      <td>vehicle_class</td>\n",
       "      <td>vehicle_class</td>\n",
       "      <td>vehicle_class</td>\n",
       "      <td>vehicle_class</td>\n",
       "      <td>vehicle_class</td>\n",
       "    </tr>\n",
       "    <tr>\n",
       "      <th>4</th>\n",
       "      <td>engine_size</td>\n",
       "      <td>engine_size</td>\n",
       "      <td>engine_size</td>\n",
       "      <td>engine_size</td>\n",
       "      <td>engine_size</td>\n",
       "      <td>engine_size</td>\n",
       "      <td>engine_size</td>\n",
       "      <td>engine_size</td>\n",
       "    </tr>\n",
       "    <tr>\n",
       "      <th>5</th>\n",
       "      <td>cylinders</td>\n",
       "      <td>cylinders</td>\n",
       "      <td>cylinders</td>\n",
       "      <td>cylinders</td>\n",
       "      <td>cylinders</td>\n",
       "      <td>cylinders</td>\n",
       "      <td>cylinders</td>\n",
       "      <td>cylinders</td>\n",
       "    </tr>\n",
       "    <tr>\n",
       "      <th>6</th>\n",
       "      <td>transmission</td>\n",
       "      <td>transmission</td>\n",
       "      <td>transmission</td>\n",
       "      <td>transmission</td>\n",
       "      <td>transmission</td>\n",
       "      <td>transmission</td>\n",
       "      <td>transmission</td>\n",
       "      <td>transmission</td>\n",
       "    </tr>\n",
       "    <tr>\n",
       "      <th>7</th>\n",
       "      <td>fuel_type</td>\n",
       "      <td>fuel_type</td>\n",
       "      <td>fuel_type</td>\n",
       "      <td>fuel_type</td>\n",
       "      <td>fuel_type</td>\n",
       "      <td>fuel_type</td>\n",
       "      <td>fuel_type</td>\n",
       "      <td>fuel_type</td>\n",
       "    </tr>\n",
       "    <tr>\n",
       "      <th>8</th>\n",
       "      <td>fuel_consumption_city</td>\n",
       "      <td>fuel_consumption_city</td>\n",
       "      <td>fuel_consumption_city</td>\n",
       "      <td>fuel_consumption_city</td>\n",
       "      <td>fuel_consumption_city</td>\n",
       "      <td>fuel_consumption_city</td>\n",
       "      <td>fuel_consumption_city</td>\n",
       "      <td>fuel_consumption_city</td>\n",
       "    </tr>\n",
       "    <tr>\n",
       "      <th>9</th>\n",
       "      <td>fuel_consumption_highway</td>\n",
       "      <td>fuel_consumption_highway</td>\n",
       "      <td>fuel_consumption_highway</td>\n",
       "      <td>fuel_consumption_highway</td>\n",
       "      <td>fuel_consumption_highway</td>\n",
       "      <td>fuel_consumption_highway</td>\n",
       "      <td>fuel_consumption_highway</td>\n",
       "      <td>fuel_consumption_highway</td>\n",
       "    </tr>\n",
       "    <tr>\n",
       "      <th>10</th>\n",
       "      <td>fuel_consumption_comb1</td>\n",
       "      <td>fuel_consumption_comb1</td>\n",
       "      <td>fuel_consumption_comb1</td>\n",
       "      <td>fuel_consumption_comb1</td>\n",
       "      <td>fuel_consumption_comb1</td>\n",
       "      <td>fuel_consumption_comb1</td>\n",
       "      <td>fuel_consumption_comb1</td>\n",
       "      <td>fuel_consumption_comb1</td>\n",
       "    </tr>\n",
       "    <tr>\n",
       "      <th>11</th>\n",
       "      <td>fuel_consumption_comb2</td>\n",
       "      <td>fuel_consumption_comb2</td>\n",
       "      <td>fuel_consumption_comb2</td>\n",
       "      <td>fuel_consumption_comb2</td>\n",
       "      <td>fuel_consumption_comb2</td>\n",
       "      <td>fuel_consumption_comb2</td>\n",
       "      <td>fuel_consumption_comb2</td>\n",
       "      <td>fuel_consumption_comb2</td>\n",
       "    </tr>\n",
       "    <tr>\n",
       "      <th>12</th>\n",
       "      <td>co2_emissions</td>\n",
       "      <td>co2_emissions</td>\n",
       "      <td>co2_emissions</td>\n",
       "      <td>co2_emissions</td>\n",
       "      <td>co2_emissions</td>\n",
       "      <td>co2_emissions</td>\n",
       "      <td>co2_emissions</td>\n",
       "      <td>co2_emissions</td>\n",
       "    </tr>\n",
       "    <tr>\n",
       "      <th>13</th>\n",
       "      <td>NaN</td>\n",
       "      <td>NaN</td>\n",
       "      <td>NaN</td>\n",
       "      <td>co2_rating</td>\n",
       "      <td>co2_rating</td>\n",
       "      <td>co2_rating</td>\n",
       "      <td>co2_rating</td>\n",
       "      <td>co2_rating</td>\n",
       "    </tr>\n",
       "    <tr>\n",
       "      <th>14</th>\n",
       "      <td>NaN</td>\n",
       "      <td>NaN</td>\n",
       "      <td>NaN</td>\n",
       "      <td>NaN</td>\n",
       "      <td>smog_rating</td>\n",
       "      <td>smog_rating</td>\n",
       "      <td>smog_rating</td>\n",
       "      <td>smog_rating</td>\n",
       "    </tr>\n",
       "  </tbody>\n",
       "</table>\n",
       "</div>"
      ],
      "text/plain": [
       "                          d1                        d2  \\\n",
       "0                       year                      year   \n",
       "1                    company                   company   \n",
       "2                 model_name                model_name   \n",
       "3              vehicle_class             vehicle_class   \n",
       "4                engine_size               engine_size   \n",
       "5                  cylinders                 cylinders   \n",
       "6               transmission              transmission   \n",
       "7                  fuel_type                 fuel_type   \n",
       "8      fuel_consumption_city     fuel_consumption_city   \n",
       "9   fuel_consumption_highway  fuel_consumption_highway   \n",
       "10    fuel_consumption_comb1    fuel_consumption_comb1   \n",
       "11    fuel_consumption_comb2    fuel_consumption_comb2   \n",
       "12             co2_emissions             co2_emissions   \n",
       "13                       NaN                       NaN   \n",
       "14                       NaN                       NaN   \n",
       "\n",
       "                          d3                        d4  \\\n",
       "0                       year                      year   \n",
       "1                    company                   company   \n",
       "2                 model_name                model_name   \n",
       "3              vehicle_class             vehicle_class   \n",
       "4                engine_size               engine_size   \n",
       "5                  cylinders                 cylinders   \n",
       "6               transmission              transmission   \n",
       "7                  fuel_type                 fuel_type   \n",
       "8      fuel_consumption_city     fuel_consumption_city   \n",
       "9   fuel_consumption_highway  fuel_consumption_highway   \n",
       "10    fuel_consumption_comb1    fuel_consumption_comb1   \n",
       "11    fuel_consumption_comb2    fuel_consumption_comb2   \n",
       "12             co2_emissions             co2_emissions   \n",
       "13                       NaN                co2_rating   \n",
       "14                       NaN                       NaN   \n",
       "\n",
       "                          d5                        d6  \\\n",
       "0                       year                      year   \n",
       "1                    company                   company   \n",
       "2                 model_name                model_name   \n",
       "3              vehicle_class             vehicle_class   \n",
       "4                engine_size               engine_size   \n",
       "5                  cylinders                 cylinders   \n",
       "6               transmission              transmission   \n",
       "7                  fuel_type                 fuel_type   \n",
       "8      fuel_consumption_city     fuel_consumption_city   \n",
       "9   fuel_consumption_highway  fuel_consumption_highway   \n",
       "10    fuel_consumption_comb1    fuel_consumption_comb1   \n",
       "11    fuel_consumption_comb2    fuel_consumption_comb2   \n",
       "12             co2_emissions             co2_emissions   \n",
       "13                co2_rating                co2_rating   \n",
       "14               smog_rating               smog_rating   \n",
       "\n",
       "                          d7                        d8  \n",
       "0                       year                      year  \n",
       "1                    company                   company  \n",
       "2                 model_name                model_name  \n",
       "3              vehicle_class             vehicle_class  \n",
       "4                engine_size               engine_size  \n",
       "5                  cylinders                 cylinders  \n",
       "6               transmission              transmission  \n",
       "7                  fuel_type                 fuel_type  \n",
       "8      fuel_consumption_city     fuel_consumption_city  \n",
       "9   fuel_consumption_highway  fuel_consumption_highway  \n",
       "10    fuel_consumption_comb1    fuel_consumption_comb1  \n",
       "11    fuel_consumption_comb2    fuel_consumption_comb2  \n",
       "12             co2_emissions             co2_emissions  \n",
       "13                co2_rating                co2_rating  \n",
       "14               smog_rating               smog_rating  "
      ]
     },
     "execution_count": 41,
     "metadata": {},
     "output_type": "execute_result"
    }
   ],
   "source": [
    "cols =  pd.concat([pd.DataFrame(d1.columns), pd.DataFrame(d2.columns), pd.DataFrame(d3.columns), pd.DataFrame(d4.columns), \n",
    "                      pd.DataFrame(d5.columns), pd.DataFrame(d6.columns), pd.DataFrame(d7.columns), pd.DataFrame(d8.columns)], axis = 1)\n",
    "\n",
    "cols.columns = ['d1','d2','d3','d4','d5','d6','d7','d8']\n",
    "\n",
    "cols"
   ]
  },
  {
   "cell_type": "code",
   "execution_count": 42,
   "id": "3e721021",
   "metadata": {},
   "outputs": [
    {
     "data": {
      "text/html": [
       "<div>\n",
       "<style scoped>\n",
       "    .dataframe tbody tr th:only-of-type {\n",
       "        vertical-align: middle;\n",
       "    }\n",
       "\n",
       "    .dataframe tbody tr th {\n",
       "        vertical-align: top;\n",
       "    }\n",
       "\n",
       "    .dataframe thead th {\n",
       "        text-align: right;\n",
       "    }\n",
       "</style>\n",
       "<table border=\"1\" class=\"dataframe\">\n",
       "  <thead>\n",
       "    <tr style=\"text-align: right;\">\n",
       "      <th></th>\n",
       "      <th>engine_size</th>\n",
       "      <th>cylinders</th>\n",
       "      <th>fuel_consumption_city</th>\n",
       "      <th>fuel_consumption_highway</th>\n",
       "      <th>fuel_consumption_comb1</th>\n",
       "      <th>fuel_consumption_comb2</th>\n",
       "      <th>co2_emissions</th>\n",
       "      <th>co2_rating</th>\n",
       "      <th>smog_rating</th>\n",
       "    </tr>\n",
       "  </thead>\n",
       "  <tbody>\n",
       "    <tr>\n",
       "      <th>engine_size</th>\n",
       "      <td>1.000000</td>\n",
       "      <td>0.918535</td>\n",
       "      <td>0.834490</td>\n",
       "      <td>0.754556</td>\n",
       "      <td>0.820012</td>\n",
       "      <td>-0.706484</td>\n",
       "      <td>0.829131</td>\n",
       "      <td>-0.783078</td>\n",
       "      <td>-0.512441</td>\n",
       "    </tr>\n",
       "    <tr>\n",
       "      <th>cylinders</th>\n",
       "      <td>0.918535</td>\n",
       "      <td>1.000000</td>\n",
       "      <td>0.844244</td>\n",
       "      <td>0.749493</td>\n",
       "      <td>0.824937</td>\n",
       "      <td>-0.694086</td>\n",
       "      <td>0.838628</td>\n",
       "      <td>-0.772654</td>\n",
       "      <td>-0.540160</td>\n",
       "    </tr>\n",
       "    <tr>\n",
       "      <th>fuel_consumption_city</th>\n",
       "      <td>0.834490</td>\n",
       "      <td>0.844244</td>\n",
       "      <td>1.000000</td>\n",
       "      <td>0.928013</td>\n",
       "      <td>0.991514</td>\n",
       "      <td>-0.904342</td>\n",
       "      <td>0.969382</td>\n",
       "      <td>-0.923850</td>\n",
       "      <td>-0.587870</td>\n",
       "    </tr>\n",
       "    <tr>\n",
       "      <th>fuel_consumption_highway</th>\n",
       "      <td>0.754556</td>\n",
       "      <td>0.749493</td>\n",
       "      <td>0.928013</td>\n",
       "      <td>1.000000</td>\n",
       "      <td>0.968274</td>\n",
       "      <td>-0.883574</td>\n",
       "      <td>0.936029</td>\n",
       "      <td>-0.896454</td>\n",
       "      <td>-0.512498</td>\n",
       "    </tr>\n",
       "    <tr>\n",
       "      <th>fuel_consumption_comb1</th>\n",
       "      <td>0.820012</td>\n",
       "      <td>0.824937</td>\n",
       "      <td>0.991514</td>\n",
       "      <td>0.968274</td>\n",
       "      <td>1.000000</td>\n",
       "      <td>-0.912327</td>\n",
       "      <td>0.974015</td>\n",
       "      <td>-0.930013</td>\n",
       "      <td>-0.572803</td>\n",
       "    </tr>\n",
       "    <tr>\n",
       "      <th>fuel_consumption_comb2</th>\n",
       "      <td>-0.706484</td>\n",
       "      <td>-0.694086</td>\n",
       "      <td>-0.904342</td>\n",
       "      <td>-0.883574</td>\n",
       "      <td>-0.912327</td>\n",
       "      <td>1.000000</td>\n",
       "      <td>-0.909477</td>\n",
       "      <td>0.948778</td>\n",
       "      <td>0.532919</td>\n",
       "    </tr>\n",
       "    <tr>\n",
       "      <th>co2_emissions</th>\n",
       "      <td>0.829131</td>\n",
       "      <td>0.838628</td>\n",
       "      <td>0.969382</td>\n",
       "      <td>0.936029</td>\n",
       "      <td>0.974015</td>\n",
       "      <td>-0.909477</td>\n",
       "      <td>1.000000</td>\n",
       "      <td>-0.956946</td>\n",
       "      <td>-0.598609</td>\n",
       "    </tr>\n",
       "    <tr>\n",
       "      <th>co2_rating</th>\n",
       "      <td>-0.783078</td>\n",
       "      <td>-0.772654</td>\n",
       "      <td>-0.923850</td>\n",
       "      <td>-0.896454</td>\n",
       "      <td>-0.930013</td>\n",
       "      <td>0.948778</td>\n",
       "      <td>-0.956946</td>\n",
       "      <td>1.000000</td>\n",
       "      <td>0.569887</td>\n",
       "    </tr>\n",
       "    <tr>\n",
       "      <th>smog_rating</th>\n",
       "      <td>-0.512441</td>\n",
       "      <td>-0.540160</td>\n",
       "      <td>-0.587870</td>\n",
       "      <td>-0.512498</td>\n",
       "      <td>-0.572803</td>\n",
       "      <td>0.532919</td>\n",
       "      <td>-0.598609</td>\n",
       "      <td>0.569887</td>\n",
       "      <td>1.000000</td>\n",
       "    </tr>\n",
       "  </tbody>\n",
       "</table>\n",
       "</div>"
      ],
      "text/plain": [
       "                          engine_size  cylinders  fuel_consumption_city  \\\n",
       "engine_size                  1.000000   0.918535               0.834490   \n",
       "cylinders                    0.918535   1.000000               0.844244   \n",
       "fuel_consumption_city        0.834490   0.844244               1.000000   \n",
       "fuel_consumption_highway     0.754556   0.749493               0.928013   \n",
       "fuel_consumption_comb1       0.820012   0.824937               0.991514   \n",
       "fuel_consumption_comb2      -0.706484  -0.694086              -0.904342   \n",
       "co2_emissions                0.829131   0.838628               0.969382   \n",
       "co2_rating                  -0.783078  -0.772654              -0.923850   \n",
       "smog_rating                 -0.512441  -0.540160              -0.587870   \n",
       "\n",
       "                          fuel_consumption_highway  fuel_consumption_comb1  \\\n",
       "engine_size                               0.754556                0.820012   \n",
       "cylinders                                 0.749493                0.824937   \n",
       "fuel_consumption_city                     0.928013                0.991514   \n",
       "fuel_consumption_highway                  1.000000                0.968274   \n",
       "fuel_consumption_comb1                    0.968274                1.000000   \n",
       "fuel_consumption_comb2                   -0.883574               -0.912327   \n",
       "co2_emissions                             0.936029                0.974015   \n",
       "co2_rating                               -0.896454               -0.930013   \n",
       "smog_rating                              -0.512498               -0.572803   \n",
       "\n",
       "                          fuel_consumption_comb2  co2_emissions  co2_rating  \\\n",
       "engine_size                            -0.706484       0.829131   -0.783078   \n",
       "cylinders                              -0.694086       0.838628   -0.772654   \n",
       "fuel_consumption_city                  -0.904342       0.969382   -0.923850   \n",
       "fuel_consumption_highway               -0.883574       0.936029   -0.896454   \n",
       "fuel_consumption_comb1                 -0.912327       0.974015   -0.930013   \n",
       "fuel_consumption_comb2                  1.000000      -0.909477    0.948778   \n",
       "co2_emissions                          -0.909477       1.000000   -0.956946   \n",
       "co2_rating                              0.948778      -0.956946    1.000000   \n",
       "smog_rating                             0.532919      -0.598609    0.569887   \n",
       "\n",
       "                          smog_rating  \n",
       "engine_size                 -0.512441  \n",
       "cylinders                   -0.540160  \n",
       "fuel_consumption_city       -0.587870  \n",
       "fuel_consumption_highway    -0.512498  \n",
       "fuel_consumption_comb1      -0.572803  \n",
       "fuel_consumption_comb2       0.532919  \n",
       "co2_emissions               -0.598609  \n",
       "co2_rating                   0.569887  \n",
       "smog_rating                  1.000000  "
      ]
     },
     "execution_count": 42,
     "metadata": {},
     "output_type": "execute_result"
    }
   ],
   "source": [
    "d9.corr()"
   ]
  },
  {
   "cell_type": "code",
   "execution_count": 43,
   "id": "012de1f1",
   "metadata": {},
   "outputs": [],
   "source": [
    "#Clearly on calculating the correlation matrix for every dataset, the smog_rating/co2_emissions coefficient is low(-6.0 <coef <-4.0)\n",
    "#and so, we would not be considering smog_rating variable in our Regression Model\n",
    "\n",
    "#However, the co2_rating has high pearson coefficient and as observed from the graph below, has a relationship with the co2_emissions i.e. target variable\n",
    "#so we will include co2_rating variable in our larger dataset\n"
   ]
  },
  {
   "cell_type": "code",
   "execution_count": 44,
   "id": "9b33dd18",
   "metadata": {},
   "outputs": [],
   "source": [
    "#Dropping 'smog_rating' column from dataframes\n",
    "\n",
    "d5.drop(columns = 'smog_rating', inplace = True)\n",
    "d6.drop(columns = 'smog_rating', inplace = True)\n",
    "d7.drop(columns = 'smog_rating', inplace = True)\n",
    "d8.drop(columns = 'smog_rating', inplace = True)\n",
    "d9.drop(columns = 'smog_rating', inplace = True)"
   ]
  },
  {
   "cell_type": "code",
   "execution_count": 45,
   "id": "87984ffc",
   "metadata": {
    "scrolled": true
   },
   "outputs": [
    {
     "data": {
      "text/plain": [
       "<AxesSubplot:xlabel='co2_rating', ylabel='co2_emissions'>"
      ]
     },
     "execution_count": 45,
     "metadata": {},
     "output_type": "execute_result"
    },
    {
     "data": {
      "image/png": "[encoded data removed]",
      "text/plain": [
       "<Figure size 432x288 with 1 Axes>"
      ]
     },
     "metadata": {
      "needs_background": "light"
     },
     "output_type": "display_data"
    }
   ],
   "source": [
    "#Identifying relationship between co2_rating and co2_emissions for every dataset\n",
    "\n",
    "co2 = pd.concat([d4[['co2_rating', 'co2_emissions']], d5[['co2_rating', 'co2_emissions']], d6[['co2_rating', 'co2_emissions']], d7[['co2_rating', 'co2_emissions']], d8[['co2_rating', 'co2_emissions']]], axis = 0)\n",
    "\n",
    "sns.scatterplot(x = 'co2_rating', y = 'co2_emissions', data=co2)"
   ]
  },
  {
   "cell_type": "code",
   "execution_count": 46,
   "id": "a8a8a74b",
   "metadata": {},
   "outputs": [
    {
     "name": "stdout",
     "output_type": "stream",
     "text": [
      "co2_rating Mean   :  4.7511476664116294\n",
      "co2_rating Median :  5.0\n",
      "co2_rating Mode   :  5.0\n"
     ]
    }
   ],
   "source": [
    "print('co2_rating Mean   : ', co2['co2_rating'].mean())\n",
    "print('co2_rating Median : ',co2['co2_rating'].median())\n",
    "print('co2_rating Mode   : ',co2['co2_rating'].mode()[0])"
   ]
  },
  {
   "cell_type": "code",
   "execution_count": 47,
   "id": "21859542",
   "metadata": {},
   "outputs": [],
   "source": [
    "#so we may fill the null values of 'co2_rating' in d1, d2 and d3 with value = 5for final dataset \n",
    "# but as we find on plotting before and after adding 5 tas 'co2_rating' in d1, d2 and d3, it hampers the data distribution\n",
    "\n",
    "#so we replace the null values of 'co2_rating' in d1, d2 and d3 with value = 5for final dataset "
   ]
  },
  {
   "cell_type": "code",
   "execution_count": 48,
   "id": "4a70c8dc",
   "metadata": {},
   "outputs": [],
   "source": [
    "d1['co2_rating'] = pd.Series(dtype='float')\n",
    "d1['co2_rating'].fillna(value=0, inplace=True)\n",
    "\n",
    "d2['co2_rating'] = pd.Series(dtype='float')\n",
    "d2['co2_rating'].fillna(value=0, inplace=True)\n",
    "\n",
    "d3['co2_rating'] = pd.Series(dtype='float')\n",
    "d3['co2_rating'].fillna(value=0, inplace=True)\n",
    "\n",
    "d4['co2_rating'] = pd.Series(dtype='float')\n",
    "d4['co2_rating'].fillna(value=0, inplace=True)"
   ]
  },
  {
   "cell_type": "markdown",
   "id": "4f9f48fa",
   "metadata": {},
   "source": [
    " "
   ]
  },
  {
   "cell_type": "markdown",
   "id": "b45a2338",
   "metadata": {},
   "source": [
    "## Creating the ULTIMATE DATASET!!\n"
   ]
  },
  {
   "cell_type": "code",
   "execution_count": 49,
   "id": "3e1bd97f",
   "metadata": {
    "scrolled": true
   },
   "outputs": [],
   "source": [
    "dataset = pd.concat([d1, d2, d3, d4, d5, d6, d7, d8, d9])"
   ]
  },
  {
   "cell_type": "code",
   "execution_count": 50,
   "id": "faea6807",
   "metadata": {},
   "outputs": [
    {
     "data": {
      "text/plain": [
       "year                        0\n",
       "company                     0\n",
       "model_name                  0\n",
       "vehicle_class               0\n",
       "engine_size                 0\n",
       "cylinders                   0\n",
       "transmission                0\n",
       "fuel_type                   0\n",
       "fuel_consumption_city       0\n",
       "fuel_consumption_highway    0\n",
       "fuel_consumption_comb1      0\n",
       "fuel_consumption_comb2      0\n",
       "co2_emissions               0\n",
       "co2_rating                  0\n",
       "dtype: int64"
      ]
     },
     "execution_count": 50,
     "metadata": {},
     "output_type": "execute_result"
    }
   ],
   "source": [
    "dataset.isnull().sum()"
   ]
  },
  {
   "cell_type": "code",
   "execution_count": 51,
   "id": "06013ff1",
   "metadata": {},
   "outputs": [
    {
     "data": {
      "text/plain": [
       "Index(['year', 'company', 'model_name', 'vehicle_class', 'engine_size',\n",
       "       'cylinders', 'transmission', 'fuel_type', 'fuel_consumption_city',\n",
       "       'fuel_consumption_highway', 'fuel_consumption_comb1',\n",
       "       'fuel_consumption_comb2', 'co2_rating', 'co2_emissions'],\n",
       "      dtype='object')"
      ]
     },
     "execution_count": 51,
     "metadata": {},
     "output_type": "execute_result"
    }
   ],
   "source": [
    "#rearranging the dataset columns\n",
    "\n",
    "d = dataset.columns.to_list()\n",
    "l = len(d)\n",
    "d[l-2], d[l-1] = d[l-1], d[l-2]\n",
    "dataset = dataset[d]\n",
    "dataset.columns"
   ]
  },
  {
   "cell_type": "markdown",
   "id": "c2434317",
   "metadata": {},
   "source": [
    " "
   ]
  },
  {
   "cell_type": "markdown",
   "id": "6c9bc065",
   "metadata": {},
   "source": [
    "## Dealing with copy variables with case sensitivity "
   ]
  },
  {
   "cell_type": "code",
   "execution_count": 52,
   "id": "a94b7715",
   "metadata": {},
   "outputs": [],
   "source": [
    "for i in range(len(dataset.columns)-1):\n",
    "    if dataset.dtypes[i] == 'object':\n",
    "        dataset[dataset.columns[i]] = dataset[dataset.columns[i]].str.lower()"
   ]
  },
  {
   "cell_type": "markdown",
   "id": "900a25fd",
   "metadata": {},
   "source": [
    " "
   ]
  },
  {
   "cell_type": "markdown",
   "id": "329f7687",
   "metadata": {},
   "source": [
    "## Dealing with repeated objects in Categorical Variables"
   ]
  },
  {
   "cell_type": "code",
   "execution_count": 53,
   "id": "85492dbe",
   "metadata": {},
   "outputs": [],
   "source": [
    "#print(dataset['vehicle_class'].nunique())\n",
    "vehicles = ['subcompact', 'compact', 'two_seater', 'station_wagon',\n",
    "       'minicompact', 'mid_size', 'full_size', 'station_wagon',\n",
    "       'pickup_truck', 'pickup_truck', 'van',\n",
    "       'van', 'minivan', 'suv', 'suv',\n",
    "       'special_purpose_vehicle', 'suv', 'suv',\n",
    "       'station_wagon', 'suv', 'pickup_truck',\n",
    "       'pickup_ruck', 'van',\n",
    "       'station_wagon']\n",
    "\n",
    "dataset['vehicle_class'].replace(to_replace=list(dataset['vehicle_class'].unique()), value=vehicles, inplace=True)\n",
    "\n",
    "#print(dataset['vehicle_class'].nunique())"
   ]
  },
  {
   "cell_type": "code",
   "execution_count": 54,
   "id": "e66b11e2",
   "metadata": {},
   "outputs": [],
   "source": [
    "#Company \n",
    "\n",
    "dataset['company'].replace(to_replace=['alfa romeo', 'mercedes-benz'], value = ['alfa_romeo', 'mercedes_benz'], inplace=True)"
   ]
  },
  {
   "cell_type": "code",
   "execution_count": 55,
   "id": "52ff1f93",
   "metadata": {},
   "outputs": [],
   "source": [
    "#Transmission\n",
    "\n",
    "transmission_type = []\n",
    "for t in list(dataset['transmission'].unique()):    \n",
    "    if t[1] == 'v':\n",
    "        transmission_type.append('av')\n",
    "    elif t[1] == 'm':\n",
    "        transmission_type.append('am')\n",
    "    elif t[1] == 's':\n",
    "        transmission_type.append('as')\n",
    "    elif t[0] == 'm':\n",
    "        transmission_type.append('m')\n",
    "    else:\n",
    "        transmission_type.append('a')\n",
    "        \n",
    "dataset['transmission'].replace(to_replace=dataset['transmission'].unique(), value = transmission_type, inplace=True)"
   ]
  },
  {
   "cell_type": "code",
   "execution_count": null,
   "id": "7edb384e",
   "metadata": {},
   "outputs": [],
   "source": []
  },
  {
   "cell_type": "code",
   "execution_count": 56,
   "id": "0e01c9c1",
   "metadata": {},
   "outputs": [],
   "source": [
    "#dealing with NaN values in 'year': replace NaN values with any other value already in year because this variable as seenlater is irrelevant to the target variable\n",
    "\n",
    "dataset['year'].fillna(2016, inplace=True)"
   ]
  },
  {
   "cell_type": "code",
   "execution_count": 57,
   "id": "0d743cb1",
   "metadata": {},
   "outputs": [
    {
     "name": "stdout",
     "output_type": "stream",
     "text": [
      "year \n",
      " ['1995' '1996' '1997' '1998' '1999' '2000' '2001' '2002' '2003' '2004'\n",
      " '2005' 2016 '2013' '2014' '2015' '2016' '2017' '2018' '2019' '2020'\n",
      " '2021'] \n",
      "\n",
      "\n",
      "company \n",
      " ['acura' 'alfa_romeo' 'audi' 'bentley' 'bmw' 'buick' 'cadillac'\n",
      " 'chevrolet' 'chrysler' 'dodge' 'eagle' 'ferrari' 'ford' 'geo' 'honda'\n",
      " 'hyundai' 'infiniti' 'jaguar' 'lexus' 'lincoln' 'mercury' 'mazda'\n",
      " 'mercedes_benz' 'nissan' 'oldsmobile' 'plymouth' 'pontiac' 'porsche'\n",
      " 'rolls-royce' 'saab' 'saturn' 'subaru' 'suzuki' 'toyota' 'volkswagen'\n",
      " 'volvo' 'gmc' 'isuzu' 'jeep' 'land rover' 'daewoo' 'kia' 'maserati'\n",
      " 'mini' 'mitsubishi' 'smart' 'hummer' 'aston martin' 'lamborghini'\n",
      " 'bugatti' 'scion' 'fiat' 'ram' 'srt' 'genesis'] \n",
      "\n",
      "\n",
      "model_name \n",
      " ['integra' 'integra gs-r' 'legend' ... 'rav4 (stop/start)'\n",
      " 'rav4 awd (stop/start)' 'rav4 awd le'] \n",
      "\n",
      "\n",
      "vehicle_class \n",
      " ['subcompact' 'compact' 'two_seater' 'station_wagon' 'minicompact'\n",
      " 'mid_size' 'full_size' 'pickup_truck' 'van' 'minivan' 'suv'\n",
      " 'special_purpose_vehicle' 'pickup_ruck'] \n",
      "\n",
      "\n",
      "engine_size \n",
      " [1.8 3.2 3.  2.8 2.2 6.7 2.  2.5 4.  5.4 3.1 3.8 5.7 2.3 4.6 4.9 3.4 4.3\n",
      " 3.3 3.5 1.5 8.  2.4 5.5 1.3 1.9 5.  1.  2.7 1.6 4.5 6.  4.2 3.6 2.9 6.5\n",
      " 3.9 5.2 5.9 5.8 2.6 1.2 4.4 4.1 4.8 5.3 4.7 1.7 3.7 8.3 5.6 6.1 0.8 7.\n",
      " 6.2 6.8 8.4 6.6 1.4 6.4 6.3 2.1 0.9] \n",
      "\n",
      "\n",
      "cylinders \n",
      " [ 4.  6.  5.  8. 12. 10.  3.  2. 16.] \n",
      "\n",
      "\n",
      "transmission \n",
      " ['a' 'm' 'as' 'av' 'am'] \n",
      "\n",
      "\n",
      "fuel_type \n",
      " ['x' 'z' 'd' 'n' 'e'] \n",
      "\n",
      "\n",
      "fuel_consumption_city \n",
      " [10.2  9.6  9.4 12.6 13.  13.4 13.5 12.9 15.7 13.8 12.1 12.4 12.7 13.3\n",
      " 22.5 22.7 22.9 23.1 11.3 10.8 10.6 11.8 11.9 12.2 14.3 14.9 13.6 16.2\n",
      " 14.4 17.1  9.9 10.9 14.  11.4 17.  10.1 14.8 13.2 12.  13.9 11.7 13.7\n",
      " 11.6 10.5  8.1  9.   7.1  8.9  8.3 10.3  8.7 11.1 13.1 12.3  9.3 19.4\n",
      " 11.5 18.9 23.3 23.8  8.   6.5 10.4  9.2  7.9 12.5 12.8  5.4  6.4  9.5\n",
      " 11.   9.7  8.5  6.6 10.7  8.4 19.8 16.1 19.2 19.5  9.1  7.7  8.2  7.8\n",
      "  8.8 14.1 15.3 15.9 18.7 17.7 10.  11.2 14.2 14.5  9.8  8.6  7.6  7.\n",
      "  7.2 16.  18.5 19.9 18.6 16.7 14.6 18.8 14.7 15.5 17.6 18.4 21.  16.4\n",
      " 15.  15.6 20.6 19.6 17.8 15.4 17.4 16.5 20.2 17.9 20.1 18.  20.4 19.1\n",
      " 21.2 15.8 16.9 17.3 16.6 20.8 15.1 18.1 18.2 22.  17.2 21.1 20.3 16.8\n",
      " 16.3 19.3 18.3 21.3 20.9  6.9 15.2 17.5 20.  19.  21.6 25.9 23.5  7.5\n",
      "  5.9  6.2 24.4 24.  20.7  6.1  6.  26.1 19.7  5.6 22.4 27.7  3.9  7.4\n",
      "  7.3  6.8  4.5  5.7 24.2 21.4 23.7 23.  21.5 24.8 30.6  4.9 20.5 21.8\n",
      "  6.7  4.  26.7 25.  23.2 24.7 22.1  5.2  4.6  4.7 22.3 22.8 25.6 21.9\n",
      " 21.7  5.8 27.5  4.8  5.   6.3  3.7 27.8 24.3 23.6 27.9 22.2  4.4  5.5\n",
      "  3.5  4.3  5.1  5.3  3.6 30.3  4.2 23.9 26.8 24.5 26.3 26.6 27.2 26.2\n",
      " 27.3] \n",
      "\n",
      "\n",
      "fuel_consumption_highway \n",
      " [ 7.   8.9  9.3  8.4  9.2  9.  10.   8.2  8.5  9.7 14.8 13.7 14.6 15.3\n",
      "  7.6  6.9  6.8  7.5  7.8  7.7  9.1 10.8  7.3  8.8  8.6  7.4  8.3  8.7\n",
      " 10.5  6.1  7.2  7.9  6.6  6.5  5.5  6.4  6.7  5.6  5.9  6.3  8.  11.4\n",
      " 13.8 14.4  5.1  7.1  6.2  5.8  4.3  4.9  6.   5.   5.7  9.8 13.2 10.3\n",
      " 12.9 13.   9.4 10.6 11.2 12.5 10.4 12.   5.4 11.6  8.1 12.1  9.5 12.4\n",
      " 12.8  9.6 12.2 14.  10.9 11.5 11.3 13.6 12.6 11.7  9.9 10.7 10.2 11.8\n",
      " 12.7 14.3 13.1 13.5 14.2 15.  11.  13.9 14.5 13.4 12.3 11.9 15.2 16.1\n",
      " 14.9 15.9 11.1 14.7 10.1  5.2 13.3 14.1  4.4  4.6  5.3 15.4 15.5  4.5\n",
      " 15.6  4.8 16.6  3.2  4.7 16.4 15.7 16.9 15.8 16.2 16.3 17.7 16.  17.6\n",
      " 15.1  3.3  4.2 17.9 19.   3.8 16.5 17.3 17.4 17.  16.8 17.1  4.  16.7\n",
      " 17.5 17.2 20.5 20.6 18.6 18.5 18.  18.1 20.9  4.1  3.9] \n",
      "\n",
      "\n",
      "fuel_consumption_comb1 \n",
      " [ 8.8  8.4  8.3 10.9 11.3 11.2 11.6 11.1 13.1 10.8 10.3 10.6 11.4 11.5\n",
      " 19.  19.1 18.6 19.2 19.6  9.6  9.   8.9  9.9 10.1 10.2 11.7 12.3 12.1\n",
      " 14.3  8.6 10.7  9.3 11.9 11.8 12.6 14.1 11.   9.8 10.4  9.1 10.   8.7\n",
      "  7.4  7.9  6.4  7.8  8.   7.1 15.2  9.4 15.5  7.3  5.9  8.5  9.2  8.1\n",
      "  9.7  7.   4.9  5.7  8.2  9.5  7.6  6.9 16.8 13.5 16.4 16.6  6.8  7.5\n",
      "  7.2 13.2 13.8 16.2 15.9 12.9 15.1 12.2 14.  15.6  6.3  6.7 10.5 14.8\n",
      " 12.  15.8 16.7 12.4 16.  12.7 14.7 16.1 13.  13.7 18.1 17.2 13.3 14.2\n",
      " 17.8 17.3 12.5 14.5 13.6 15.3 13.9 17.4 16.9 17.7 18.4 15.4 14.6 18.\n",
      " 16.3 15.  15.7 16.5 18.8 17.5 17.1 12.8 14.4 13.4 14.9 17.9  6.1  7.7\n",
      " 18.5 20.9 19.3  5.2  5.5 19.9 20.8 20.   6.5  5.3 17.  21.3  5.8  6.\n",
      "  5.1 18.3 22.7  3.6  6.6  4.6 20.7 18.2 20.6 19.7 20.3 19.8 24.8  4.8\n",
      "  5.  19.5  4.1  5.6 17.6 18.7 23.2 22.3 20.4 19.4  4.2  4.5 18.9 20.1\n",
      " 21.4 21.7 20.5  5.4 22.1 20.2  4.7 21.   3.8  6.2 23.  23.1 21.5 23.3\n",
      "  4.3  3.7  4.4 25.9 26.1 22.2  4.  22.4] \n",
      "\n",
      "\n",
      "fuel_consumption_comb2 \n",
      " [32. 34. 26. 25. 24. 22. 27. 15. 14. 29. 31. 28. 23. 20. 33. 30. 38. 36.\n",
      " 44. 35. 40. 19. 18. 39. 48. 58. 50. 37. 41. 17. 21. 42. 45. 16. 46. 54.\n",
      " 51. 43. 53. 13. 49. 47. 55. 12. 78. 61. 11. 59. 56. 69. 67. 63. 52. 60.\n",
      " 74. 66. 76. 64. 71.] \n",
      "\n",
      "\n",
      "co2_rating \n",
      " [ 0.  7.  4.  5.  6.  3.  2.  1.  8. 10.  9.] \n",
      "\n",
      "\n",
      "co2_emissions \n",
      " [202 193 191 251 260 258 267 255 301 248 237 244 262 264 437 439 428 442\n",
      " 451 221 207 205 228 232 235 269 283 278 329 198 246 214 274 271 290 324\n",
      " 253 225 239 209 230 200 170 182 147 179 184 163 350 216 356 168 136 195\n",
      " 212 186 223 161 113 131 189 218 175 159 386 310 377 382 156 172 166 259\n",
      " 304 317 373 366 297 347 281 322 359 145 154 173 242 340 276 363 384 285\n",
      " 368 313 321 343 338 370 332 351 315 416 396 335 327 409 398 397 288 292\n",
      " 306 299 333 352 320 400 389 407 423 354 336 319 414 375 345 361 379 432\n",
      " 402 393 294 331 308 412 196 334 380 140 177 215 224 302 227 286 289 378\n",
      " 426 481 444 383 213 148 458 478 460 348 149 208 143 122 391 490 298 254\n",
      " 272 250 133 162 138 314 421 522  83 152 243 316 106 318 344 330 150 467\n",
      " 455 570 312 110 165 135 307 291 346  94 151 405 270 341 296 371 513 469\n",
      " 419 453 275 229 265 197 104 430 305 337 222 233 339 238 282 326 277 266\n",
      " 342 181 446 178 219 203 293 328 273 124 174 280 210 508 323 187 261 245\n",
      " 115 309 108  87 240 325 126 256  99 211 117  85 171 139 146 141 120 194\n",
      " 226 101 234 435 357 142 311 127 217 388 192 418 287 206 129 183 180 176\n",
      " 185 249 365 362 390 204 201 247 257 263 300 360 408 231 241 284 199 268\n",
      " 252 220 279 167 160 190 236 441 465 295 188 157 353 364 303 153 130 155\n",
      " 169 158 420 452 132 417 476 369 355 401 403 404 367 134 137 111 450 349\n",
      " 438 445 121 387 164 406 114 103  96 461 372 358 413 128 105 118 102 454\n",
      " 464 473 410 381 487 493 109 537 392 485 395 385 608 520 515] \n",
      "\n",
      "\n"
     ]
    }
   ],
   "source": [
    "for col in list(dataset.columns):\n",
    "    print(col,'\\n', dataset[col].unique(),'\\n\\n')"
   ]
  },
  {
   "cell_type": "markdown",
   "id": "a0014976",
   "metadata": {},
   "source": [
    " "
   ]
  },
  {
   "cell_type": "markdown",
   "id": "00a08a1b",
   "metadata": {},
   "source": [
    "## Exporting clean and preprocessed data to fresh .csv file:"
   ]
  },
  {
   "cell_type": "code",
   "execution_count": 58,
   "id": "57457609",
   "metadata": {},
   "outputs": [],
   "source": [
    "#dataset.to_csv('data.csv', index=False)\n",
    "\n",
    "#dataset = pd.read_csv('data.csv')"
   ]
  },
  {
   "cell_type": "markdown",
   "id": "e5cf67ba",
   "metadata": {},
   "source": [
    " "
   ]
  },
  {
   "cell_type": "markdown",
   "id": "38d67be7",
   "metadata": {},
   "source": [
    "## EDA"
   ]
  },
  {
   "cell_type": "code",
   "execution_count": 59,
   "id": "4a66623b",
   "metadata": {},
   "outputs": [
    {
     "data": {
      "text/html": [
       "<div>\n",
       "<style scoped>\n",
       "    .dataframe tbody tr th:only-of-type {\n",
       "        vertical-align: middle;\n",
       "    }\n",
       "\n",
       "    .dataframe tbody tr th {\n",
       "        vertical-align: top;\n",
       "    }\n",
       "\n",
       "    .dataframe thead th {\n",
       "        text-align: right;\n",
       "    }\n",
       "</style>\n",
       "<table border=\"1\" class=\"dataframe\">\n",
       "  <thead>\n",
       "    <tr style=\"text-align: right;\">\n",
       "      <th></th>\n",
       "      <th>year</th>\n",
       "      <th>company</th>\n",
       "      <th>model_name</th>\n",
       "      <th>vehicle_class</th>\n",
       "      <th>engine_size</th>\n",
       "      <th>cylinders</th>\n",
       "      <th>transmission</th>\n",
       "      <th>fuel_type</th>\n",
       "      <th>fuel_consumption_city</th>\n",
       "      <th>fuel_consumption_highway</th>\n",
       "      <th>fuel_consumption_comb1</th>\n",
       "      <th>fuel_consumption_comb2</th>\n",
       "      <th>co2_rating</th>\n",
       "      <th>co2_emissions</th>\n",
       "    </tr>\n",
       "  </thead>\n",
       "  <tbody>\n",
       "    <tr>\n",
       "      <th>1761</th>\n",
       "      <td>2002</td>\n",
       "      <td>lexus</td>\n",
       "      <td>gs 430</td>\n",
       "      <td>mid_size</td>\n",
       "      <td>4.3</td>\n",
       "      <td>8.0</td>\n",
       "      <td>a</td>\n",
       "      <td>z</td>\n",
       "      <td>13.1</td>\n",
       "      <td>9.3</td>\n",
       "      <td>11.4</td>\n",
       "      <td>25.0</td>\n",
       "      <td>0.0</td>\n",
       "      <td>262</td>\n",
       "    </tr>\n",
       "    <tr>\n",
       "      <th>2427</th>\n",
       "      <td>2003</td>\n",
       "      <td>gmc</td>\n",
       "      <td>k1500 yukon xl 4x4</td>\n",
       "      <td>suv</td>\n",
       "      <td>5.3</td>\n",
       "      <td>8.0</td>\n",
       "      <td>a</td>\n",
       "      <td>x</td>\n",
       "      <td>17.7</td>\n",
       "      <td>12.3</td>\n",
       "      <td>15.3</td>\n",
       "      <td>18.0</td>\n",
       "      <td>0.0</td>\n",
       "      <td>352</td>\n",
       "    </tr>\n",
       "    <tr>\n",
       "      <th>1856</th>\n",
       "      <td>2002</td>\n",
       "      <td>nissan</td>\n",
       "      <td>sentra</td>\n",
       "      <td>compact</td>\n",
       "      <td>2.5</td>\n",
       "      <td>4.0</td>\n",
       "      <td>m</td>\n",
       "      <td>x</td>\n",
       "      <td>10.8</td>\n",
       "      <td>7.6</td>\n",
       "      <td>9.4</td>\n",
       "      <td>30.0</td>\n",
       "      <td>0.0</td>\n",
       "      <td>216</td>\n",
       "    </tr>\n",
       "    <tr>\n",
       "      <th>389</th>\n",
       "      <td>2021</td>\n",
       "      <td>gmc</td>\n",
       "      <td>sierra 4wd</td>\n",
       "      <td>pickup_ruck</td>\n",
       "      <td>5.3</td>\n",
       "      <td>8.0</td>\n",
       "      <td>a</td>\n",
       "      <td>x</td>\n",
       "      <td>14.3</td>\n",
       "      <td>10.7</td>\n",
       "      <td>12.7</td>\n",
       "      <td>22.0</td>\n",
       "      <td>3.0</td>\n",
       "      <td>298</td>\n",
       "    </tr>\n",
       "  </tbody>\n",
       "</table>\n",
       "</div>"
      ],
      "text/plain": [
       "      year company          model_name vehicle_class  engine_size  cylinders  \\\n",
       "1761  2002   lexus              gs 430      mid_size          4.3        8.0   \n",
       "2427  2003     gmc  k1500 yukon xl 4x4           suv          5.3        8.0   \n",
       "1856  2002  nissan              sentra       compact          2.5        4.0   \n",
       "389   2021     gmc          sierra 4wd   pickup_ruck          5.3        8.0   \n",
       "\n",
       "     transmission fuel_type  fuel_consumption_city  fuel_consumption_highway  \\\n",
       "1761            a         z                   13.1                       9.3   \n",
       "2427            a         x                   17.7                      12.3   \n",
       "1856            m         x                   10.8                       7.6   \n",
       "389             a         x                   14.3                      10.7   \n",
       "\n",
       "      fuel_consumption_comb1  fuel_consumption_comb2  co2_rating  \\\n",
       "1761                    11.4                    25.0         0.0   \n",
       "2427                    15.3                    18.0         0.0   \n",
       "1856                     9.4                    30.0         0.0   \n",
       "389                     12.7                    22.0         3.0   \n",
       "\n",
       "      co2_emissions  \n",
       "1761            262  \n",
       "2427            352  \n",
       "1856            216  \n",
       "389             298  "
      ]
     },
     "execution_count": 59,
     "metadata": {},
     "output_type": "execute_result"
    }
   ],
   "source": [
    "dataset.sample(4)"
   ]
  },
  {
   "cell_type": "code",
   "execution_count": 60,
   "id": "a403e289",
   "metadata": {},
   "outputs": [
    {
     "name": "stdout",
     "output_type": "stream",
     "text": [
      "<class 'pandas.core.frame.DataFrame'>\n",
      "Int64Index: 25049 entries, 1 to 917\n",
      "Data columns (total 14 columns):\n",
      " #   Column                    Non-Null Count  Dtype  \n",
      "---  ------                    --------------  -----  \n",
      " 0   year                      25049 non-null  object \n",
      " 1   company                   25049 non-null  object \n",
      " 2   model_name                25049 non-null  object \n",
      " 3   vehicle_class             25049 non-null  object \n",
      " 4   engine_size               25049 non-null  float64\n",
      " 5   cylinders                 25049 non-null  float64\n",
      " 6   transmission              25049 non-null  object \n",
      " 7   fuel_type                 25049 non-null  object \n",
      " 8   fuel_consumption_city     25049 non-null  float64\n",
      " 9   fuel_consumption_highway  25049 non-null  float64\n",
      " 10  fuel_consumption_comb1    25049 non-null  float64\n",
      " 11  fuel_consumption_comb2    25049 non-null  float64\n",
      " 12  co2_rating                25049 non-null  float64\n",
      " 13  co2_emissions             25049 non-null  int32  \n",
      "dtypes: float64(7), int32(1), object(6)\n",
      "memory usage: 2.8+ MB\n"
     ]
    }
   ],
   "source": [
    "dataset.info()"
   ]
  },
  {
   "cell_type": "code",
   "execution_count": 61,
   "id": "fe81f648",
   "metadata": {},
   "outputs": [
    {
     "data": {
      "text/html": [
       "<div>\n",
       "<style scoped>\n",
       "    .dataframe tbody tr th:only-of-type {\n",
       "        vertical-align: middle;\n",
       "    }\n",
       "\n",
       "    .dataframe tbody tr th {\n",
       "        vertical-align: top;\n",
       "    }\n",
       "\n",
       "    .dataframe thead th {\n",
       "        text-align: right;\n",
       "    }\n",
       "</style>\n",
       "<table border=\"1\" class=\"dataframe\">\n",
       "  <thead>\n",
       "    <tr style=\"text-align: right;\">\n",
       "      <th></th>\n",
       "      <th>engine_size</th>\n",
       "      <th>cylinders</th>\n",
       "      <th>fuel_consumption_city</th>\n",
       "      <th>fuel_consumption_highway</th>\n",
       "      <th>fuel_consumption_comb1</th>\n",
       "      <th>fuel_consumption_comb2</th>\n",
       "      <th>co2_rating</th>\n",
       "      <th>co2_emissions</th>\n",
       "    </tr>\n",
       "  </thead>\n",
       "  <tbody>\n",
       "    <tr>\n",
       "      <th>count</th>\n",
       "      <td>25049.000000</td>\n",
       "      <td>25049.000000</td>\n",
       "      <td>25049.000000</td>\n",
       "      <td>25049.000000</td>\n",
       "      <td>25049.000000</td>\n",
       "      <td>25049.000000</td>\n",
       "      <td>25049.000000</td>\n",
       "      <td>25049.000000</td>\n",
       "    </tr>\n",
       "    <tr>\n",
       "      <th>mean</th>\n",
       "      <td>3.360657</td>\n",
       "      <td>5.848337</td>\n",
       "      <td>12.826975</td>\n",
       "      <td>8.919095</td>\n",
       "      <td>11.068937</td>\n",
       "      <td>27.260889</td>\n",
       "      <td>0.921155</td>\n",
       "      <td>251.183520</td>\n",
       "    </tr>\n",
       "    <tr>\n",
       "      <th>std</th>\n",
       "      <td>1.340395</td>\n",
       "      <td>1.788600</td>\n",
       "      <td>3.465143</td>\n",
       "      <td>2.266541</td>\n",
       "      <td>2.889782</td>\n",
       "      <td>7.284512</td>\n",
       "      <td>1.982288</td>\n",
       "      <td>59.752518</td>\n",
       "    </tr>\n",
       "    <tr>\n",
       "      <th>min</th>\n",
       "      <td>0.800000</td>\n",
       "      <td>2.000000</td>\n",
       "      <td>3.500000</td>\n",
       "      <td>3.200000</td>\n",
       "      <td>3.600000</td>\n",
       "      <td>11.000000</td>\n",
       "      <td>0.000000</td>\n",
       "      <td>83.000000</td>\n",
       "    </tr>\n",
       "    <tr>\n",
       "      <th>25%</th>\n",
       "      <td>2.300000</td>\n",
       "      <td>4.000000</td>\n",
       "      <td>10.500000</td>\n",
       "      <td>7.300000</td>\n",
       "      <td>9.100000</td>\n",
       "      <td>22.000000</td>\n",
       "      <td>0.000000</td>\n",
       "      <td>209.000000</td>\n",
       "    </tr>\n",
       "    <tr>\n",
       "      <th>50%</th>\n",
       "      <td>3.000000</td>\n",
       "      <td>6.000000</td>\n",
       "      <td>12.300000</td>\n",
       "      <td>8.400000</td>\n",
       "      <td>10.600000</td>\n",
       "      <td>27.000000</td>\n",
       "      <td>0.000000</td>\n",
       "      <td>244.000000</td>\n",
       "    </tr>\n",
       "    <tr>\n",
       "      <th>75%</th>\n",
       "      <td>4.300000</td>\n",
       "      <td>8.000000</td>\n",
       "      <td>14.800000</td>\n",
       "      <td>10.300000</td>\n",
       "      <td>12.800000</td>\n",
       "      <td>31.000000</td>\n",
       "      <td>0.000000</td>\n",
       "      <td>290.000000</td>\n",
       "    </tr>\n",
       "    <tr>\n",
       "      <th>max</th>\n",
       "      <td>8.400000</td>\n",
       "      <td>16.000000</td>\n",
       "      <td>30.600000</td>\n",
       "      <td>20.900000</td>\n",
       "      <td>26.100000</td>\n",
       "      <td>78.000000</td>\n",
       "      <td>10.000000</td>\n",
       "      <td>608.000000</td>\n",
       "    </tr>\n",
       "  </tbody>\n",
       "</table>\n",
       "</div>"
      ],
      "text/plain": [
       "        engine_size     cylinders  fuel_consumption_city  \\\n",
       "count  25049.000000  25049.000000           25049.000000   \n",
       "mean       3.360657      5.848337              12.826975   \n",
       "std        1.340395      1.788600               3.465143   \n",
       "min        0.800000      2.000000               3.500000   \n",
       "25%        2.300000      4.000000              10.500000   \n",
       "50%        3.000000      6.000000              12.300000   \n",
       "75%        4.300000      8.000000              14.800000   \n",
       "max        8.400000     16.000000              30.600000   \n",
       "\n",
       "       fuel_consumption_highway  fuel_consumption_comb1  \\\n",
       "count              25049.000000            25049.000000   \n",
       "mean                   8.919095               11.068937   \n",
       "std                    2.266541                2.889782   \n",
       "min                    3.200000                3.600000   \n",
       "25%                    7.300000                9.100000   \n",
       "50%                    8.400000               10.600000   \n",
       "75%                   10.300000               12.800000   \n",
       "max                   20.900000               26.100000   \n",
       "\n",
       "       fuel_consumption_comb2    co2_rating  co2_emissions  \n",
       "count            25049.000000  25049.000000   25049.000000  \n",
       "mean                27.260889      0.921155     251.183520  \n",
       "std                  7.284512      1.982288      59.752518  \n",
       "min                 11.000000      0.000000      83.000000  \n",
       "25%                 22.000000      0.000000     209.000000  \n",
       "50%                 27.000000      0.000000     244.000000  \n",
       "75%                 31.000000      0.000000     290.000000  \n",
       "max                 78.000000     10.000000     608.000000  "
      ]
     },
     "execution_count": 61,
     "metadata": {},
     "output_type": "execute_result"
    }
   ],
   "source": [
    "dataset.describe()"
   ]
  },
  {
   "cell_type": "code",
   "execution_count": 62,
   "id": "7aee3d05",
   "metadata": {},
   "outputs": [
    {
     "data": {
      "text/html": [
       "<div>\n",
       "<style scoped>\n",
       "    .dataframe tbody tr th:only-of-type {\n",
       "        vertical-align: middle;\n",
       "    }\n",
       "\n",
       "    .dataframe tbody tr th {\n",
       "        vertical-align: top;\n",
       "    }\n",
       "\n",
       "    .dataframe thead th {\n",
       "        text-align: right;\n",
       "    }\n",
       "</style>\n",
       "<table border=\"1\" class=\"dataframe\">\n",
       "  <thead>\n",
       "    <tr style=\"text-align: right;\">\n",
       "      <th></th>\n",
       "      <th>engine_size</th>\n",
       "      <th>cylinders</th>\n",
       "      <th>fuel_consumption_city</th>\n",
       "      <th>fuel_consumption_highway</th>\n",
       "      <th>fuel_consumption_comb1</th>\n",
       "      <th>fuel_consumption_comb2</th>\n",
       "      <th>co2_rating</th>\n",
       "      <th>co2_emissions</th>\n",
       "    </tr>\n",
       "  </thead>\n",
       "  <tbody>\n",
       "    <tr>\n",
       "      <th>engine_size</th>\n",
       "      <td>1.000000</td>\n",
       "      <td>0.909497</td>\n",
       "      <td>0.826112</td>\n",
       "      <td>0.758985</td>\n",
       "      <td>0.813135</td>\n",
       "      <td>-0.762331</td>\n",
       "      <td>-0.211533</td>\n",
       "      <td>0.829055</td>\n",
       "    </tr>\n",
       "    <tr>\n",
       "      <th>cylinders</th>\n",
       "      <td>0.909497</td>\n",
       "      <td>1.000000</td>\n",
       "      <td>0.793731</td>\n",
       "      <td>0.700000</td>\n",
       "      <td>0.770848</td>\n",
       "      <td>-0.717776</td>\n",
       "      <td>-0.195585</td>\n",
       "      <td>0.796959</td>\n",
       "    </tr>\n",
       "    <tr>\n",
       "      <th>fuel_consumption_city</th>\n",
       "      <td>0.826112</td>\n",
       "      <td>0.793731</td>\n",
       "      <td>1.000000</td>\n",
       "      <td>0.944905</td>\n",
       "      <td>0.993153</td>\n",
       "      <td>-0.924502</td>\n",
       "      <td>-0.205684</td>\n",
       "      <td>0.925443</td>\n",
       "    </tr>\n",
       "    <tr>\n",
       "      <th>fuel_consumption_highway</th>\n",
       "      <td>0.758985</td>\n",
       "      <td>0.700000</td>\n",
       "      <td>0.944905</td>\n",
       "      <td>1.000000</td>\n",
       "      <td>0.976106</td>\n",
       "      <td>-0.888581</td>\n",
       "      <td>-0.105928</td>\n",
       "      <td>0.903035</td>\n",
       "    </tr>\n",
       "    <tr>\n",
       "      <th>fuel_consumption_comb1</th>\n",
       "      <td>0.813135</td>\n",
       "      <td>0.770848</td>\n",
       "      <td>0.993153</td>\n",
       "      <td>0.976106</td>\n",
       "      <td>1.000000</td>\n",
       "      <td>-0.924022</td>\n",
       "      <td>-0.173398</td>\n",
       "      <td>0.929623</td>\n",
       "    </tr>\n",
       "    <tr>\n",
       "      <th>fuel_consumption_comb2</th>\n",
       "      <td>-0.762331</td>\n",
       "      <td>-0.717776</td>\n",
       "      <td>-0.924502</td>\n",
       "      <td>-0.888581</td>\n",
       "      <td>-0.924022</td>\n",
       "      <td>1.000000</td>\n",
       "      <td>0.183814</td>\n",
       "      <td>-0.904927</td>\n",
       "    </tr>\n",
       "    <tr>\n",
       "      <th>co2_rating</th>\n",
       "      <td>-0.211533</td>\n",
       "      <td>-0.195585</td>\n",
       "      <td>-0.205684</td>\n",
       "      <td>-0.105928</td>\n",
       "      <td>-0.173398</td>\n",
       "      <td>0.183814</td>\n",
       "      <td>1.000000</td>\n",
       "      <td>-0.151675</td>\n",
       "    </tr>\n",
       "    <tr>\n",
       "      <th>co2_emissions</th>\n",
       "      <td>0.829055</td>\n",
       "      <td>0.796959</td>\n",
       "      <td>0.925443</td>\n",
       "      <td>0.903035</td>\n",
       "      <td>0.929623</td>\n",
       "      <td>-0.904927</td>\n",
       "      <td>-0.151675</td>\n",
       "      <td>1.000000</td>\n",
       "    </tr>\n",
       "  </tbody>\n",
       "</table>\n",
       "</div>"
      ],
      "text/plain": [
       "                          engine_size  cylinders  fuel_consumption_city  \\\n",
       "engine_size                  1.000000   0.909497               0.826112   \n",
       "cylinders                    0.909497   1.000000               0.793731   \n",
       "fuel_consumption_city        0.826112   0.793731               1.000000   \n",
       "fuel_consumption_highway     0.758985   0.700000               0.944905   \n",
       "fuel_consumption_comb1       0.813135   0.770848               0.993153   \n",
       "fuel_consumption_comb2      -0.762331  -0.717776              -0.924502   \n",
       "co2_rating                  -0.211533  -0.195585              -0.205684   \n",
       "co2_emissions                0.829055   0.796959               0.925443   \n",
       "\n",
       "                          fuel_consumption_highway  fuel_consumption_comb1  \\\n",
       "engine_size                               0.758985                0.813135   \n",
       "cylinders                                 0.700000                0.770848   \n",
       "fuel_consumption_city                     0.944905                0.993153   \n",
       "fuel_consumption_highway                  1.000000                0.976106   \n",
       "fuel_consumption_comb1                    0.976106                1.000000   \n",
       "fuel_consumption_comb2                   -0.888581               -0.924022   \n",
       "co2_rating                               -0.105928               -0.173398   \n",
       "co2_emissions                             0.903035                0.929623   \n",
       "\n",
       "                          fuel_consumption_comb2  co2_rating  co2_emissions  \n",
       "engine_size                            -0.762331   -0.211533       0.829055  \n",
       "cylinders                              -0.717776   -0.195585       0.796959  \n",
       "fuel_consumption_city                  -0.924502   -0.205684       0.925443  \n",
       "fuel_consumption_highway               -0.888581   -0.105928       0.903035  \n",
       "fuel_consumption_comb1                 -0.924022   -0.173398       0.929623  \n",
       "fuel_consumption_comb2                  1.000000    0.183814      -0.904927  \n",
       "co2_rating                              0.183814    1.000000      -0.151675  \n",
       "co2_emissions                          -0.904927   -0.151675       1.000000  "
      ]
     },
     "execution_count": 62,
     "metadata": {},
     "output_type": "execute_result"
    }
   ],
   "source": [
    "dataset.corr()"
   ]
  },
  {
   "cell_type": "code",
   "execution_count": 63,
   "id": "c8b81fdd",
   "metadata": {
    "scrolled": false
   },
   "outputs": [],
   "source": [
    "#but the pairwise correlation value pf co2_Rating and co2_emissions is -0.15 at the same time graph suggests that \n",
    "#their exists a -ve polyn relationship between the 2 var.s"
   ]
  },
  {
   "cell_type": "code",
   "execution_count": null,
   "id": "0b588c3b",
   "metadata": {},
   "outputs": [],
   "source": []
  },
  {
   "cell_type": "markdown",
   "id": "fcd327be",
   "metadata": {},
   "source": [
    "## Plotting Graphs for data distribution intuition"
   ]
  },
  {
   "cell_type": "code",
   "execution_count": 64,
   "id": "b8b9cac8",
   "metadata": {},
   "outputs": [],
   "source": [
    "class plot:\n",
    "    \n",
    "    def __init__(self, dataset):\n",
    "        self.dataset    = dataset\n",
    "        self.target_var = dataset['co2_emissions']\n",
    "    \n",
    "    def scatter(self, depen_var):\n",
    "        sns.scatterplot(x=dataset[depen_var], y=self.target_var)\n",
    "        plt.xlabel(depen_var.upper())\n",
    "        plt.ylabel('CO2 Emissions')\n",
    "        plt.show()\n",
    "    \n",
    "    \n",
    "    def box(self, depen_var):\n",
    "        sns.boxplot(x=dataset[depen_var], y = self.target_var)\n",
    "        plt.xlabel(depen_var.upper())\n",
    "        plt.ylabel('CO2 Emissions')\n",
    "        plt.show()\n",
    "        \n",
    "    def bar(self, depen_var):\n",
    "        sns.barplot(x=dataset[depen_var], y = self.target_var)\n",
    "        plt.xlabel(depen_var.upper())\n",
    "        plt.xticks(rotation=45)\n",
    "        plt.ylabel('CO2 Emissions')\n",
    "        plt.show()"
   ]
  },
  {
   "cell_type": "code",
   "execution_count": 65,
   "id": "27d4c54e",
   "metadata": {},
   "outputs": [],
   "source": [
    "instance = plot(dataset)"
   ]
  },
  {
   "cell_type": "code",
   "execution_count": 66,
   "id": "bb5c9e10",
   "metadata": {},
   "outputs": [
    {
     "data": {
      "image/png": "[encoded data removed]",
      "text/plain": [
       "<Figure size 432x288 with 1 Axes>"
      ]
     },
     "metadata": {
      "needs_background": "light"
     },
     "output_type": "display_data"
    },
    {
     "data": {
      "image/png": "[encoded data removed]",
      "text/plain": [
       "<Figure size 432x288 with 1 Axes>"
      ]
     },
     "metadata": {
      "needs_background": "light"
     },
     "output_type": "display_data"
    },
    {
     "data": {
      "image/png": "[encoded data removed]",
      "text/plain": [
       "<Figure size 432x288 with 1 Axes>"
      ]
     },
     "metadata": {
      "needs_background": "light"
     },
     "output_type": "display_data"
    },
    {
     "data": {
      "image/png": "[encoded data removed]",
      "text/plain": [
       "<Figure size 432x288 with 1 Axes>"
      ]
     },
     "metadata": {
      "needs_background": "light"
     },
     "output_type": "display_data"
    },
    {
     "data": {
      "image/png": "[encoded data removed]",
      "text/plain": [
       "<Figure size 432x288 with 1 Axes>"
      ]
     },
     "metadata": {
      "needs_background": "light"
     },
     "output_type": "display_data"
    },
    {
     "data": {
      "image/png": "[encoded data removed]",
      "text/plain": [
       "<Figure size 432x288 with 1 Axes>"
      ]
     },
     "metadata": {
      "needs_background": "light"
     },
     "output_type": "display_data"
    },
    {
     "data": {
      "image/png": "[encoded data removed]",
      "text/plain": [
       "<Figure size 432x288 with 1 Axes>"
      ]
     },
     "metadata": {
      "needs_background": "light"
     },
     "output_type": "display_data"
    },
    {
     "data": {
      "image/png": "[encoded data removed]",
      "text/plain": [
       "<Figure size 432x288 with 1 Axes>"
      ]
     },
     "metadata": {
      "needs_background": "light"
     },
     "output_type": "display_data"
    },
    {
     "data": {
      "image/png": "[encoded data removed]",
      "text/plain": [
       "<Figure size 432x288 with 1 Axes>"
      ]
     },
     "metadata": {
      "needs_background": "light"
     },
     "output_type": "display_data"
    },
    {
     "data": {
      "image/png": "[encoded data removed]",
      "text/plain": [
       "<Figure size 432x288 with 1 Axes>"
      ]
     },
     "metadata": {
      "needs_background": "light"
     },
     "output_type": "display_data"
    },
    {
     "data": {
      "image/png": "[encoded data removed]",
      "text/plain": [
       "<Figure size 432x288 with 1 Axes>"
      ]
     },
     "metadata": {
      "needs_background": "light"
     },
     "output_type": "display_data"
    },
    {
     "data": {
      "image/png": "[encoded data removed]",
      "text/plain": [
       "<Figure size 432x288 with 1 Axes>"
      ]
     },
     "metadata": {
      "needs_background": "light"
     },
     "output_type": "display_data"
    },
    {
     "data": {
      "image/png": "[encoded data removed]",
      "text/plain": [
       "<Figure size 432x288 with 1 Axes>"
      ]
     },
     "metadata": {
      "needs_background": "light"
     },
     "output_type": "display_data"
    },
    {
     "data": {
      "image/png": "[encoded data removed]",
      "text/plain": [
       "<Figure size 432x288 with 1 Axes>"
      ]
     },
     "metadata": {
      "needs_background": "light"
     },
     "output_type": "display_data"
    },
    {
     "data": {
      "image/png": "[encoded data removed]",
      "text/plain": [
       "<Figure size 432x288 with 1 Axes>"
      ]
     },
     "metadata": {
      "needs_background": "light"
     },
     "output_type": "display_data"
    },
    {
     "data": {
      "image/png": "[encoded data removed]",
      "text/plain": [
       "<Figure size 432x288 with 1 Axes>"
      ]
     },
     "metadata": {
      "needs_background": "light"
     },
     "output_type": "display_data"
    }
   ],
   "source": [
    "for i in range(len(dataset.dtypes)):\n",
    "    if dataset.columns[i] == 'model_name' or dataset.columns[i] == 'year':\n",
    "        pass\n",
    "    elif dataset.columns[i] == 'co2_rating':\n",
    "        sns.scatterplot(x=dataset['co2_rating'].replace(0, math.nan), y=dataset['co2_emissions'])\n",
    "        plt.show()\n",
    "    elif dataset.dtypes[i] == 'object':\n",
    "        instance.bar(dataset.columns[i])\n",
    "        instance.box(dataset.columns[i])\n",
    "    else:\n",
    "        instance.scatter(dataset.columns[i])"
   ]
  },
  {
   "cell_type": "code",
   "execution_count": null,
   "id": "1b2f4c35",
   "metadata": {},
   "outputs": [],
   "source": []
  },
  {
   "cell_type": "markdown",
   "id": "58407e69",
   "metadata": {},
   "source": [
    "## Statistical Analysis"
   ]
  },
  {
   "cell_type": "code",
   "execution_count": 67,
   "id": "f6370c95",
   "metadata": {
    "scrolled": true
   },
   "outputs": [
    {
     "name": "stdout",
     "output_type": "stream",
     "text": [
      "YEAR v/s CO2 Emissions Pearson Correlation Test\n",
      "F-Statistic  35.789, \n",
      "P-Value:  0.0000 \n",
      "\n",
      "\n",
      "COMPANY v/s CO2 Emissions Pearson Correlation Test\n",
      "F-Statistic  295.292, \n",
      "P-Value:  0.0000 \n",
      "\n",
      "\n",
      "VEHICLE_CLASS v/s CO2 Emissions Pearson Correlation Test\n",
      "F-Statistic  889.609, \n",
      "P-Value:  0.0000 \n",
      "\n",
      "\n",
      "ENGINE_SIZE v/s CO2 Emissions Pearson Correlation Test\n",
      "Pearson Coefficient : 0.8290545446885592 \n",
      "P Value : 0.0 \n",
      "\n",
      "\n",
      "CYLINDERS v/s CO2 Emissions Pearson Correlation Test\n",
      "Pearson Coefficient : 0.7969587942616517 \n",
      "P Value : 0.0 \n",
      "\n",
      "\n",
      "TRANSMISSION v/s CO2 Emissions Pearson Correlation Test\n",
      "F-Statistic  936.525, \n",
      "P-Value:  0.0000 \n",
      "\n",
      "\n",
      "FUEL_TYPE v/s CO2 Emissions Pearson Correlation Test\n",
      "F-Statistic  155.322, \n",
      "P-Value:  0.0000 \n",
      "\n",
      "\n",
      "FUEL_CONSUMPTION_CITY v/s CO2 Emissions Pearson Correlation Test\n",
      "Pearson Coefficient : 0.9254429463851455 \n",
      "P Value : 0.0 \n",
      "\n",
      "\n",
      "FUEL_CONSUMPTION_HIGHWAY v/s CO2 Emissions Pearson Correlation Test\n",
      "Pearson Coefficient : 0.9030353725799368 \n",
      "P Value : 0.0 \n",
      "\n",
      "\n",
      "FUEL_CONSUMPTION_COMB1 v/s CO2 Emissions Pearson Correlation Test\n",
      "Pearson Coefficient : 0.929622963742854 \n",
      "P Value : 0.0 \n",
      "\n",
      "\n",
      "FUEL_CONSUMPTION_COMB2 v/s CO2 Emissions Pearson Correlation Test\n",
      "Pearson Coefficient : -0.9049270537900058 \n",
      "P Value : 0.0 \n",
      "\n",
      "\n",
      "CO2_RATING v/s CO2 Emissions Pearson Correlation Test\n",
      "Pearson Coefficient : -0.15167502541058775 \n",
      "P Value : 8.627804561511337e-129 \n",
      "\n",
      "\n"
     ]
    }
   ],
   "source": [
    "## ANOVA Test\n",
    "\n",
    "for i in range(len(dataset.columns)-1):\n",
    "    if dataset.columns[i] == 'model_name':\n",
    "        pass\n",
    "    elif dataset.dtypes[i] != 'object':\n",
    "        print(str(dataset.columns[i]).upper(),'v/s CO2 Emissions Pearson Correlation Test')\n",
    "        pearson_coef, p_val = stats.pearsonr(dataset[dataset.columns[i]], dataset['co2_emissions'])\n",
    "        print('Pearson Coefficient :',pearson_coef,'\\nP Value :',p_val,'\\n\\n')\n",
    "\n",
    "    else: \n",
    "        model = ols('co2_emissions ~ {indep_var}'.format(indep_var = str(dataset.columns[i])), dataset).fit()\n",
    "        print(str(dataset.columns[i]).upper(),'v/s CO2 Emissions Pearson Correlation Test')\n",
    "        print(f\"F-Statistic {model.fvalue: .3f}, \\nP-Value: {model.f_pvalue: .4f} \\n\\n\")"
   ]
  },
  {
   "cell_type": "markdown",
   "id": "6798b645",
   "metadata": {},
   "source": [
    " "
   ]
  },
  {
   "cell_type": "code",
   "execution_count": 68,
   "id": "1fbd6cb5",
   "metadata": {},
   "outputs": [],
   "source": [
    "# we willl ignore columns 'year', and 'model_name'\n",
    "# fuel_consumption_comb1 and fuel_consumption_comb2 are the same factors in different units (kmpl/mpg). so we also drop fuel_consumption_comb2"
   ]
  },
  {
   "cell_type": "code",
   "execution_count": 69,
   "id": "a3ff47b0",
   "metadata": {},
   "outputs": [],
   "source": [
    "df = dataset.copy()\n",
    "df.drop('year', axis=1, inplace=True)\n",
    "df.drop('model_name', axis=1, inplace=True)\n",
    "df.drop('fuel_consumption_comb2', axis=1, inplace=True)\n",
    "#df"
   ]
  },
  {
   "cell_type": "markdown",
   "id": "75ce98a6",
   "metadata": {},
   "source": [
    " "
   ]
  },
  {
   "cell_type": "markdown",
   "id": "8d2cc91e",
   "metadata": {},
   "source": [
    "## Dummy Variables"
   ]
  },
  {
   "cell_type": "code",
   "execution_count": 70,
   "id": "9ab1fe18",
   "metadata": {},
   "outputs": [],
   "source": [
    "company_dummies = pd.get_dummies(df['company'])"
   ]
  },
  {
   "cell_type": "code",
   "execution_count": 71,
   "id": "92b2641d",
   "metadata": {},
   "outputs": [],
   "source": [
    "vehicle_class_dummies = pd.get_dummies(df['vehicle_class'])"
   ]
  },
  {
   "cell_type": "code",
   "execution_count": 72,
   "id": "8d06708f",
   "metadata": {},
   "outputs": [],
   "source": [
    "transmission_dummies = pd.get_dummies(df['transmission'])"
   ]
  },
  {
   "cell_type": "code",
   "execution_count": 73,
   "id": "6f652bd4",
   "metadata": {},
   "outputs": [],
   "source": [
    "fuel_dummies = pd.get_dummies(df['fuel_type'])\n",
    "fuel_dummies.rename(columns = {'x':'regular_gasoline', 'z':'premium_gasoline', 'd':'diesel', 'e':'ethanol', 'n':'natural_gas'}, inplace=True)"
   ]
  },
  {
   "cell_type": "code",
   "execution_count": 74,
   "id": "de6462e6",
   "metadata": {},
   "outputs": [],
   "source": [
    "target = df['co2_emissions']"
   ]
  },
  {
   "cell_type": "code",
   "execution_count": 75,
   "id": "915885c5",
   "metadata": {},
   "outputs": [],
   "source": [
    "df.drop(columns=['company', 'vehicle_class', 'transmission', 'fuel_type', 'co2_emissions'],inplace=True)"
   ]
  },
  {
   "cell_type": "code",
   "execution_count": 76,
   "id": "a49fbed3",
   "metadata": {},
   "outputs": [],
   "source": [
    "df = pd.concat([df, fuel_dummies, vehicle_class_dummies, company_dummies, target], axis=1)"
   ]
  },
  {
   "cell_type": "markdown",
   "id": "60bfea7d",
   "metadata": {},
   "source": [
    "  "
   ]
  },
  {
   "cell_type": "markdown",
   "id": "cf10e1e4",
   "metadata": {},
   "source": [
    "## Final Dataset"
   ]
  },
  {
   "cell_type": "code",
   "execution_count": 77,
   "id": "89d653c8",
   "metadata": {},
   "outputs": [],
   "source": [
    "#df.to_csv('ready_to_use_data.csv', index=False)\n",
    "#df = pd.read_csv('ready_to_use_data.csv')"
   ]
  },
  {
   "cell_type": "markdown",
   "id": "2a42adf5",
   "metadata": {},
   "source": [
    " "
   ]
  },
  {
   "cell_type": "markdown",
   "id": "e23c34e6",
   "metadata": {},
   "source": [
    "## Model Building"
   ]
  },
  {
   "cell_type": "markdown",
   "id": "626f3336",
   "metadata": {},
   "source": [
    "#### Ridge Regression"
   ]
  },
  {
   "cell_type": "code",
   "execution_count": 78,
   "id": "048c61f8",
   "metadata": {},
   "outputs": [],
   "source": [
    "y_data = df['co2_emissions']\n",
    "x_data = df.drop(columns=['co2_emissions'])"
   ]
  },
  {
   "cell_type": "code",
   "execution_count": 79,
   "id": "f96a1d20",
   "metadata": {},
   "outputs": [],
   "source": [
    "x_train, x_test, y_train, y_test = train_test_split(x_data, y_data, test_size=0.15)"
   ]
  },
  {
   "cell_type": "code",
   "execution_count": 80,
   "id": "d1963dd7",
   "metadata": {},
   "outputs": [],
   "source": [
    "pr = PolynomialFeatures(degree=2)"
   ]
  },
  {
   "cell_type": "code",
   "execution_count": 81,
   "id": "69923b15",
   "metadata": {},
   "outputs": [],
   "source": [
    "x_train_pr = pr.fit_transform(x_train)\n",
    "x_test_pr  = pr.fit_transform(x_test)"
   ]
  },
  {
   "cell_type": "code",
   "execution_count": 82,
   "id": "ff1cfbf5",
   "metadata": {},
   "outputs": [],
   "source": [
    "RR = Ridge(alpha=0.1)"
   ]
  },
  {
   "cell_type": "code",
   "execution_count": 83,
   "id": "650ce313",
   "metadata": {},
   "outputs": [
    {
     "data": {
      "text/plain": [
       "Ridge(alpha=0.1)"
      ]
     },
     "execution_count": 83,
     "metadata": {},
     "output_type": "execute_result"
    }
   ],
   "source": [
    "RR.fit(x_train_pr, y_train)"
   ]
  },
  {
   "cell_type": "code",
   "execution_count": 84,
   "id": "2d9eccee",
   "metadata": {},
   "outputs": [],
   "source": [
    "yhat = RR.predict(x_test_pr)"
   ]
  },
  {
   "cell_type": "code",
   "execution_count": 85,
   "id": "70e2ed7d",
   "metadata": {},
   "outputs": [
    {
     "name": "stdout",
     "output_type": "stream",
     "text": [
      "[322.23912267 265.99333947 418.66137939 257.89888607]\n",
      "[322 268 419 258]\n"
     ]
    }
   ],
   "source": [
    "print(yhat[:4])\n",
    "print(y_test.values[:4])"
   ]
  },
  {
   "cell_type": "code",
   "execution_count": 86,
   "id": "e1ee4f8e",
   "metadata": {
    "scrolled": true
   },
   "outputs": [
    {
     "data": {
      "text/plain": [
       "0.9994804872263369"
      ]
     },
     "execution_count": 86,
     "metadata": {},
     "output_type": "execute_result"
    }
   ],
   "source": [
    "RR.score(x_train_pr, y_train)"
   ]
  },
  {
   "cell_type": "markdown",
   "id": "400b3e8e",
   "metadata": {},
   "source": [
    "#### this indicates that Ridge regression model fits the data well"
   ]
  },
  {
   "cell_type": "markdown",
   "id": "02846f6d",
   "metadata": {},
   "source": [
    " "
   ]
  },
  {
   "cell_type": "markdown",
   "id": "82b18d3e",
   "metadata": {},
   "source": [
    "## Grid Search for Hyperparameter Tuning"
   ]
  },
  {
   "cell_type": "code",
   "execution_count": 87,
   "id": "f720348c",
   "metadata": {},
   "outputs": [],
   "source": [
    "cv = RepeatedKFold(n_splits=10, n_repeats=3, random_state=1)"
   ]
  },
  {
   "cell_type": "code",
   "execution_count": 88,
   "id": "488f76c5",
   "metadata": {},
   "outputs": [
    {
     "name": "stdout",
     "output_type": "stream",
     "text": [
      "Best Estimate for Hyper Parameter Tuning :  Ridge(alpha=0.01)\n"
     ]
    }
   ],
   "source": [
    "grid = dict()\n",
    "grid['alpha'] = [0.01, 0.03, 0.1, 0.3, 1]\n",
    "search = GridSearchCV(RR, grid, scoring='neg_mean_absolute_error', cv=cv, n_jobs=-1)\n",
    "results=search.fit(x_data, y_data)\n",
    "print('Best Estimate for Hyper Parameter Tuning : ', results.best_estimator_)"
   ]
  },
  {
   "cell_type": "markdown",
   "id": "48324824",
   "metadata": {},
   "source": [
    "#### Final Model"
   ]
  },
  {
   "cell_type": "code",
   "execution_count": 89,
   "id": "8090ee3f",
   "metadata": {
    "scrolled": true
   },
   "outputs": [
    {
     "data": {
      "text/plain": [
       "Ridge(alpha=0.1)"
      ]
     },
     "execution_count": 89,
     "metadata": {},
     "output_type": "execute_result"
    }
   ],
   "source": [
    "RR = Ridge(alpha=0.1)\n",
    "x_pr = pr.fit_transform(x_data)\n",
    "RR.fit(x_pr, y_data)"
   ]
  },
  {
   "cell_type": "code",
   "execution_count": 90,
   "id": "422ad120",
   "metadata": {},
   "outputs": [],
   "source": [
    "y_pred = RR.predict(x_pr)"
   ]
  },
  {
   "cell_type": "markdown",
   "id": "1ce8f63d",
   "metadata": {},
   "source": [
    " "
   ]
  },
  {
   "cell_type": "markdown",
   "id": "07036df6",
   "metadata": {},
   "source": [
    "## Evaluation Metrics"
   ]
  },
  {
   "cell_type": "code",
   "execution_count": 91,
   "id": "841f031c",
   "metadata": {},
   "outputs": [
    {
     "name": "stdout",
     "output_type": "stream",
     "text": [
      "Coefficient of determination R^2 of prediction: 0.9995\n",
      "RMSE value: 1.3631\n"
     ]
    }
   ],
   "source": [
    "#R^2 square value:\n",
    "r2_score = RR.score(x_train_pr, y_train)\n",
    "print(\"Coefficient of determination R^2 of prediction: {:.4f}\".format(r2_score))\n",
    "\n",
    "#Mean Square Error Value:\n",
    "y_pred = RR.predict(x_pr)\n",
    "mse = mean_squared_error(y_data, y_pred)\n",
    "rmse = np.sqrt(mse)\n",
    "print(\"RMSE value: {:.4f}\".format(rmse))"
   ]
  },
  {
   "cell_type": "markdown",
   "id": "ea47393a",
   "metadata": {},
   "source": [
    " "
   ]
  },
  {
   "cell_type": "markdown",
   "id": "cb349de0",
   "metadata": {},
   "source": [
    "## Comparing predicted vs actual values for our dataset"
   ]
  },
  {
   "cell_type": "code",
   "execution_count": 92,
   "id": "e4c74bc5",
   "metadata": {},
   "outputs": [
    {
     "name": "stdout",
     "output_type": "stream",
     "text": [
      "0 : 202 202.2544734802827\n",
      "1 : 193 193.00208974721338\n",
      "2 : 191 191.080976238584\n",
      "3 : 251 250.51889353054628\n",
      "4 : 260 259.66915312726724\n"
     ]
    }
   ],
   "source": [
    "actual_values    = pd.DataFrame(data = y_data)\n",
    "predicted_values = pd.DataFrame(data = y_pred)\n",
    "for i in range(5):\n",
    "    print(i, ':', actual_values.iloc[i][0], predicted_values.iloc[i][0])"
   ]
  },
  {
   "cell_type": "markdown",
   "id": "0da4b7be",
   "metadata": {},
   "source": [
    " "
   ]
  },
  {
   "cell_type": "markdown",
   "id": "95865ca6",
   "metadata": {},
   "source": [
    "## Overfitting/Underfitting"
   ]
  },
  {
   "cell_type": "code",
   "execution_count": 93,
   "id": "9ce9235e",
   "metadata": {
    "scrolled": true
   },
   "outputs": [
    {
     "name": "stdout",
     "output_type": "stream",
     "text": [
      "(21291, 79) (21291,) (3758, 79) (3758,)\n"
     ]
    }
   ],
   "source": [
    "print(x_train.shape, y_train.shape, x_test.shape, y_test.shape)"
   ]
  },
  {
   "cell_type": "code",
   "execution_count": 94,
   "id": "734fab1d",
   "metadata": {},
   "outputs": [
    {
     "name": "stdout",
     "output_type": "stream",
     "text": [
      "0.99947069915811 \n",
      " 0.9993999004152812\n"
     ]
    }
   ],
   "source": [
    "# Checking for Overfitting or Underfitting the data\n",
    "\n",
    "\n",
    "#split train/test data 55/45\n",
    "x_train, x_test, y_train, y_test = train_test_split(x_data, y_data, train_size=0.55, random_state=1)\n",
    "x_train_pr = pr.fit_transform(x_train)\n",
    "x_test_pr  = pr.fit_transform(x_test)\n",
    "y_pred_overfit_test = RR.predict(x_test_pr)\n",
    "\n",
    "RRo = Ridge(alpha=0.1)\n",
    "RRo.fit(x_train_pr, y_train)\n",
    "RRo.predict(x_test_pr)\n",
    "print(RRo.score(x_train_pr, y_train), '\\n',RRo.score(x_test_pr, y_test))"
   ]
  },
  {
   "cell_type": "markdown",
   "id": "7336554e",
   "metadata": {},
   "source": [
    "##good R^2 score even for 5545 train-test split suggests that the data is well fitted\n",
    "## to make sure there is no <b>Over/Underfitting</b>, we plot predicted and actual data onto a plot"
   ]
  },
  {
   "cell_type": "code",
   "execution_count": 95,
   "id": "30d8c36b",
   "metadata": {
    "scrolled": true
   },
   "outputs": [
    {
     "data": {
      "image/png": "[encoded data removed]",
      "text/plain": [
       "<Figure size 432x288 with 1 Axes>"
      ]
     },
     "metadata": {
      "needs_background": "light"
     },
     "output_type": "display_data"
    }
   ],
   "source": [
    "#Histogram:\n",
    "\n",
    "a1= sns.histplot(y_data, bins=40, color = 'palegreen')\n",
    "a2= sns.histplot(y_pred, bins=40, color = 'peachpuff', ax=a1)\n",
    "plt.title('Actual v/s Predicted CO2 Emissions by cars Histogram')\n",
    "plt.show()"
   ]
  },
  {
   "cell_type": "code",
   "execution_count": 96,
   "id": "83ee4813",
   "metadata": {
    "scrolled": true
   },
   "outputs": [
    {
     "data": {
      "image/png": "[encoded data removed]",
      "text/plain": [
       "<Figure size 432x288 with 1 Axes>"
      ]
     },
     "metadata": {
      "needs_background": "light"
     },
     "output_type": "display_data"
    }
   ],
   "source": [
    "#Scatter Plot\n",
    "\n",
    "sns.scatterplot(x=y_data, y=y_pred)\n",
    "plt.xlabel('Actual Data')\n",
    "plt.ylabel('Predicted Data')\n",
    "plt.title('Actual v/s Predicted CO2 Emissions by cars on our dataset Scatter Plot')\n",
    "plt.show()\n",
    "plt.close()"
   ]
  },
  {
   "cell_type": "markdown",
   "id": "9f0db763",
   "metadata": {},
   "source": [
    " "
   ]
  },
  {
   "cell_type": "markdown",
   "id": "25bc1f13",
   "metadata": {},
   "source": [
    "### predicting some values"
   ]
  },
  {
   "cell_type": "code",
   "execution_count": 97,
   "id": "3a8c1775",
   "metadata": {},
   "outputs": [
    {
     "name": "stdout",
     "output_type": "stream",
     "text": [
      "[[1.  1.8 4.  ... 0.  0.  0. ]\n",
      " [1.  1.8 4.  ... 0.  0.  0. ]\n",
      " [1.  1.8 4.  ... 0.  0.  0. ]\n",
      " ...\n",
      " [1.  3.  6.  ... 0.  0.  0. ]\n",
      " [1.  3.  6.  ... 0.  0.  0. ]\n",
      " [1.  3.  6.  ... 0.  0.  0. ]]\n"
     ]
    }
   ],
   "source": [
    "sample = x_data.iloc[:10]\n",
    "sample_data = pr.fit_transform(sample)\n",
    "print(sample_data)"
   ]
  },
  {
   "cell_type": "code",
   "execution_count": 98,
   "id": "97ebf49e",
   "metadata": {},
   "outputs": [
    {
     "name": "stdout",
     "output_type": "stream",
     "text": [
      "[202.25447348 193.00208975 191.08097624 250.51889353 259.66915313\n",
      " 257.42400134 267.00477475 255.57172809 301.28301625 266.72904623]\n"
     ]
    }
   ],
   "source": [
    "print(RR.predict(sample_data))"
   ]
  },
  {
   "cell_type": "code",
   "execution_count": 99,
   "id": "1569da86",
   "metadata": {},
   "outputs": [
    {
     "data": {
      "text/plain": [
       "array([202, 193, 191, 251, 260, 258, 267, 255, 301, 267])"
      ]
     },
     "execution_count": 99,
     "metadata": {},
     "output_type": "execute_result"
    }
   ],
   "source": [
    "y_data[:10].values"
   ]
  },
  {
   "cell_type": "markdown",
   "id": "7fe88f06",
   "metadata": {},
   "source": [
    " "
   ]
  },
  {
   "cell_type": "markdown",
   "id": "d1f583c4",
   "metadata": {},
   "source": [
    "## Model Serialization"
   ]
  },
  {
   "cell_type": "code",
   "execution_count": 100,
   "id": "78ff23b0",
   "metadata": {},
   "outputs": [],
   "source": [
    "# Save the Modle to file in the current working directory\n",
    "\n",
    "Pkl_Filename = \"co2_emissions_pickle.pkl\"  \n",
    "\n",
    "with open(Pkl_Filename, 'wb') as file:  \n",
    "    pickle.dump(RR, file)"
   ]
  },
  {
   "cell_type": "code",
   "execution_count": 101,
   "id": "bb0cd0a3",
   "metadata": {},
   "outputs": [],
   "source": [
    "# Load the Model back from file\n",
    "with open('co2_emissions_pickle.pkl', 'rb') as file:  \n",
    "    RR = pickle.load(file)\n",
    "\n",
    "#RR.predict(x_data, y_data) i.e. RR is the trained model which can be directly imported for prediction"
   ]
  },
  {
   "cell_type": "markdown",
   "id": "6d0bb1a2",
   "metadata": {},
   "source": [
    " "
   ]
  },
  {
   "cell_type": "markdown",
   "id": "5a30e3f6",
   "metadata": {},
   "source": [
    "## input data from user in 'dataset' column format and predict output "
   ]
  },
  {
   "cell_type": "code",
   "execution_count": 102,
   "id": "6ff38cc8",
   "metadata": {},
   "outputs": [],
   "source": [
    "#function to assist transform() by ensuring the right values are input for every parameter \n",
    "\n",
    "def help_t(data_ip, col, typee):\n",
    "        item = col\n",
    "        ip   = data_ip\n",
    "        if typee == 'cat':\n",
    "            avail = list(dataset[item].unique())\n",
    "            print('\\nIncorrect Information!')\n",
    "            print('{} not found in Database. Please check and try again\\n'.format(col))\n",
    "\n",
    "            help_var = input('Enter \\'help\\' for details on available options for {} or \\'q\\' to quit or \\'continue\\' to try again\\n'.format(item)).lower()\n",
    "\n",
    "            if help_var == 'help':\n",
    "                \n",
    "                if col == 'transmission':\n",
    "                    transmission_dic = {'a':'Automatic', 'am':'Automated manual', 'as':'Automatic with select shift', 'av':'Continuously variable', 'm':'manual'}\n",
    "                    for t_key, t_val in transmission_dic.items():\n",
    "                        print('for',t_val,'enter',t_key)\n",
    "                \n",
    "                elif col == 'fuel_type':\n",
    "                    fuel_type_dic = {'x':'Regular gasoline','z':'Premium gasoline','d':'Diesel','e':'Ethanol (E85)', 'n':'Natural gas'}\n",
    "                    for t_key, t_val in fuel_type_dic.items():\n",
    "                        print('for',t_val,'enter',t_key)\n",
    "                \n",
    "                else:\n",
    "                    print('Available options for {} :\\n'.format(item), avail,'\\n\\n')\n",
    "                \n",
    "                \n",
    "                help_ip = input('Enter {}  :'.format(item)).lower()\n",
    "                if help_ip in avail:\n",
    "                    return help_ip\n",
    "                else:\n",
    "                    help_t(help_ip, item, 'cat')\n",
    "\n",
    "            elif help_var == 'continue':\n",
    "                help_ip = input('Enter {}  :'.format(item)).lower()\n",
    "                if help_ip in avail:\n",
    "                    return help_ip\n",
    "                else:\n",
    "                    help_t(help_ip,item, 'cat')\n",
    "\n",
    "\n",
    "            elif help_var == 'q':\n",
    "                return 'q'\n",
    "\n",
    "            else:\n",
    "                print('Please enter Valid input')\n",
    "                help_t(ip, item, 'cat')\n",
    "            \n",
    "        else:\n",
    "            print('\\nPlease enter a numerical value for {}'.format(col))\n",
    "            help_ip = input('Enter {}  :'.format(item))\n",
    "            \n",
    "            if help_ip.isnumeric():\n",
    "                return float(help_ip)\n",
    "\n",
    "            help_t(help_ip ,item, 'num')"
   ]
  },
  {
   "cell_type": "code",
   "execution_count": 103,
   "id": "41a5ef2d",
   "metadata": {},
   "outputs": [],
   "source": [
    "#function to prompt if user wants to calculate CO2 Emission again after a successful prediction or failure because of invalid input (NaN)\n",
    "\n",
    "def repeat():\n",
    "    again = input('Wish to estimate car CO2 emission(y/n) again?\\n')\n",
    "    if again.lower() == 'y':\n",
    "        return 'y'\n",
    "\n",
    "    elif again.lower() == 'n':\n",
    "        return 'n'\n",
    "\n",
    "    else: \n",
    "        print('Please enter valid input (y/n)')\n",
    "        repeat()\n"
   ]
  },
  {
   "cell_type": "code",
   "execution_count": 104,
   "id": "f9a20928",
   "metadata": {},
   "outputs": [],
   "source": [
    "#function takes no parameters. \n",
    "#When called, it prompts for car informatin as per 'dataset' and prints the estimated CO2 emission as well as returns it (most recent estimation in case more than once the emission is predicted)\n",
    "\n",
    "\n",
    "def trans():\n",
    "    iput_dic = {}\n",
    "    estimated_val = []\n",
    "    print('Enter car information\\n')\n",
    "    t = 0\n",
    "    num_vars = ['engine_size', 'cylinders', 'fuel_consumption_city', 'fuel_consumption_highway', 'fuel_consumption_comb1', 'fuel_consumption_comb2', 'co2_rating']\n",
    "    cat_vars = ['company', 'vehicle_class', 'transmission', 'fuel_type']\n",
    "    \n",
    "    columns = {'Company':'company', 'Vehicle Class':'vehicle_class', 'Transmission':'transmission', 'Fuel Type':'fuel_type',\n",
    "               'Engine Size':'engine_size', 'Number of Cylinders': 'cylinders', 'Fuel Consumption in City (L/100km)':'fuel_consumption_city',\n",
    "               'Fuel Consumption in Highway (L/100km)':'fuel_consumption_highway', 'Fuel Consumption in general (mpg)':'fuel_consumption_comb1',\n",
    "               'Fuel Consumption combined (mpg)':'fuel_consumption_comb2'}\n",
    "    \n",
    "    for col_pretty, col in columns.items():\n",
    "\n",
    "        iput = input('Enter {}  :'.format(col_pretty)).lower()\n",
    "        \n",
    "        #for numerical variables\n",
    "        if col in num_vars:\n",
    "            if iput.isnumeric():\n",
    "                iput_dic[col] = iput\n",
    "            else:\n",
    "                ans = help_t(iput, col, 'num')\n",
    "                if ans == 'q':\n",
    "                    return\n",
    "                else:\n",
    "                    iput_dic[col] = ans\n",
    "                \n",
    "        #for categorical vairables\n",
    "        elif col in cat_vars:\n",
    "            if iput in dataset[col].unique():\n",
    "                iput_dic[col] = iput\n",
    "            else:\n",
    "                ans = help_t(iput, col, 'cat')\n",
    "                if ans == 'q':\n",
    "                    return\n",
    "                else:\n",
    "                    iput_dic[col] = ans\n",
    "\n",
    "                    \n",
    "        iput_df = pd.DataFrame(data = np.zeros(shape=(1, 79)), columns = list(df.columns)[:len(df.columns)-1])\n",
    "        \n",
    "        for key, val in iput_dic.items():\n",
    "            if key in list(df.columns):\n",
    "                iput_df[key] = val\n",
    "                \n",
    "            elif val in list(df.columns):\n",
    "                iput_df[val] = 1\n",
    "                \n",
    "            else:\n",
    "                pass\n",
    "    \n",
    "    \n",
    "    try:\n",
    "        estimation = RR.predict(pr.fit_transform(iput_df))\n",
    "        print('\\n\\nEstimated CO2 Emission is', str(estimation[0]), 'g/km\\n')\n",
    "\n",
    "        \n",
    "        another = repeat()\n",
    "        if another == 'n':\n",
    "            return estimation\n",
    "        trans()\n",
    "        \n",
    "    except ValueError:\n",
    "        print('\\nInvalid Input. Please try again\\n')\n",
    "        another = repeat()\n",
    "        if another == 'n':\n",
    "            return estimation\n",
    "        trans()"
   ]
  },
  {
   "cell_type": "code",
   "execution_count": 106,
   "id": "414b4490",
   "metadata": {},
   "outputs": [
    {
     "name": "stdout",
     "output_type": "stream",
     "text": [
      "Enter car information\n",
      "\n",
      "Enter Company  :BMW\n",
      "Enter Vehicle Class  :suv_typo_\n",
      "\n",
      "Incorrect Information!\n",
      "vehicle_class not found in Database. Please check and try again\n",
      "\n",
      "Enter 'help' for details on available options for vehicle_class or 'q' to quit or 'continue' to try again\n",
      "help\n",
      "Available options for vehicle_class :\n",
      " ['subcompact', 'compact', 'two_seater', 'station_wagon', 'minicompact', 'mid_size', 'full_size', 'pickup_truck', 'van', 'minivan', 'suv', 'special_purpose_vehicle', 'pickup_ruck'] \n",
      "\n",
      "\n",
      "Enter vehicle_class  :suv\n",
      "Enter Transmission  :ee\n",
      "\n",
      "Incorrect Information!\n",
      "transmission not found in Database. Please check and try again\n",
      "\n",
      "Enter 'help' for details on available options for transmission or 'q' to quit or 'continue' to try again\n",
      "continue\n",
      "Enter transmission  :m\n",
      "Enter Fuel Type  :e\n",
      "Enter Engine Size  :8\n",
      "Enter Number of Cylinders  :6\n",
      "Enter Fuel Consumption in City (L/100km)  :12\n",
      "Enter Fuel Consumption in Highway (L/100km)  :14\n",
      "Enter Fuel Consumption in general (mpg)  :12\n",
      "Enter Fuel Consumption combined (mpg)  :13\n",
      "\n",
      "\n",
      "Estimated CO2 Emission is 214.3420932606047 g/km\n",
      "\n",
      "Wish to estimate car CO2 emission(y/n) again?\n",
      "n\n"
     ]
    }
   ],
   "source": [
    "if __name__ == '__main__':\n",
    "    trans()"
   ]
  },
  {
   "cell_type": "markdown",
   "id": "2e6c6eae",
   "metadata": {},
   "source": [
    " "
   ]
  }
 ],
 "metadata": {
  "kernelspec": {
   "display_name": "Python 3",
   "language": "python",
   "name": "python3"
  },
  "language_info": {
   "codemirror_mode": {
    "name": "ipython",
    "version": 3
   },
   "file_extension": ".py",
   "mimetype": "text/x-python",
   "name": "python",
   "nbconvert_exporter": "python",
   "pygments_lexer": "ipython3",
   "version": "3.8.8"
  }
 },
 "nbformat": 4,
 "nbformat_minor": 5
}
